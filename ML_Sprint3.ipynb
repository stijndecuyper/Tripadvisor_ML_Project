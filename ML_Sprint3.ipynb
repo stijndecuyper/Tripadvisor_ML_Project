{
  "cells": [
    {
      "cell_type": "markdown",
      "metadata": {
        "id": "view-in-github",
        "colab_type": "text"
      },
      "source": [
        "<a href=\"https://colab.research.google.com/github/stijndecuyper/Tripadvisor_ML_Project/blob/main/ML_Sprint3.ipynb\" target=\"_parent\"><img src=\"https://colab.research.google.com/assets/colab-badge.svg\" alt=\"Open In Colab\"/></a>"
      ]
    },
    {
      "cell_type": "markdown",
      "metadata": {
        "id": "08kYJ8FOacma"
      },
      "source": [
        "# Machinaal leren: groep 12 - Sprint 3\n",
        "\n"
      ]
    },
    {
      "cell_type": "code",
      "execution_count": null,
      "metadata": {
        "colab": {
          "base_uri": "https://localhost:8080/"
        },
        "id": "CbG1hBnsH0t-",
        "outputId": "e6951d58-78ea-4588-8e91-c1171ddcd9da"
      },
      "outputs": [
        {
          "output_type": "stream",
          "name": "stdout",
          "text": [
            "Mounted at /content/drive\n"
          ]
        }
      ],
      "source": [
        "from google.colab import drive\n",
        "drive.mount('/content/drive')"
      ]
    },
    {
      "cell_type": "markdown",
      "metadata": {
        "id": "0SVjzMPR6tdy"
      },
      "source": [
        "# Imports"
      ]
    },
    {
      "cell_type": "code",
      "execution_count": null,
      "metadata": {
        "id": "EwMNPOMV6u9K"
      },
      "outputs": [],
      "source": [
        "import pandas as pd\n",
        "import seaborn as sn\n",
        "import numpy as np\n",
        "import plotly.express as px\n",
        "import seaborn as sns\n",
        "import matplotlib.pyplot as plt\n",
        "import plotly.graph_objects as go\n",
        "from plotly.subplots import make_subplots\n",
        "import string\n",
        "from tensorflow.keras.models import Sequential\n",
        "from tensorflow.keras.layers import Dense\n",
        "from imgaug import augmenters as iaa\n",
        "\n",
        "from keras.optimizers import SGD\n",
        "from sklearn import preprocessing\n",
        "from sklearn.model_selection import train_test_split\n",
        "from keras.utils import to_categorical\n",
        "import matplotlib.pyplot as plt\n",
        "import glob\n",
        "import os\n",
        "from PIL import Image\n",
        "import cv2\n",
        "from keras.layers import Conv2D, Activation, MaxPooling2D, Flatten, Dropout\n",
        "import tensorflow as tf\n",
        "import tensorflow_datasets as tfds\n",
        "from sklearn.preprocessing import OneHotEncoder\n",
        "import pickle\n",
        "import gc\n",
        "import random\n",
        "import tensorflow as tf"
      ]
    },
    {
      "cell_type": "markdown",
      "metadata": {
        "id": "4H1rkd-a6ok1"
      },
      "source": [
        "# Getting data"
      ]
    },
    {
      "cell_type": "code",
      "execution_count": null,
      "metadata": {
        "id": "KxXTFAcf6rEH"
      },
      "outputs": [],
      "source": [
        "restaurant_df = pd.read_csv(\"/content/drive/MyDrive/MachineLearning/restaurant_listings.csv\")\n",
        "review_df = pd.read_csv(\"/content/drive/MyDrive/MachineLearning/reviews.csv\")\n",
        "restaurant_coor_df = pd.read_csv(\"/content/drive/MyDrive/MachineLearning/adressen.csv\")\n",
        "joined_df = pd.read_csv(\"/content/drive/MyDrive/MachineLearning/joined_images_df.csv\")"
      ]
    },
    {
      "cell_type": "markdown",
      "metadata": {
        "id": "m6u8DVR1DkBp"
      },
      "source": []
    },
    {
      "cell_type": "markdown",
      "metadata": {
        "id": "zAVP1yyICqdP"
      },
      "source": [
        "# Possible tasks:\n",
        "\n",
        "- Predict the price of a restaurant, based on the distance to the closest parking. (Gent only)\n",
        "    - Gent has a lot of open datasets. We searched for datasets that included factors that are important for us, when searching for a restaurant. We choose for Parking.\n",
        "\n",
        "- Improve the clustering model of sprint2.\n",
        "\n",
        "- Predict the cuisines based on the images.\n",
        "\n",
        "- AI that draws images of the restaurant.\n",
        "\n",
        "- Detect anbormalities in the images.\n"
      ]
    },
    {
      "cell_type": "markdown",
      "metadata": {
        "id": "QOe1aniTa64p"
      },
      "source": [
        "# Task 1: Predicting cuisines based on images"
      ]
    },
    {
      "cell_type": "markdown",
      "metadata": {
        "id": "OhNJSlvb1uwQ"
      },
      "source": [
        "## Task 1.1 Loading images for new deep learning\n",
        "\n",
        "---\n",
        "\n",
        "Because we are using deep learning, we can include more information. Therefore we don't need to use the HOG-values from sprint 2 anymore.\n",
        "\n",
        "We'll use the RGB values of the images and label them with the cuisine of the restaurant.\n",
        "\n",
        "At first, we'll only use the first cuisine of the restaurant. Later we'll try to use multi-label classification where the same image has multiple cuisines.\n",
        "\n"
      ]
    },
    {
      "cell_type": "markdown",
      "metadata": {
        "id": "uGlpX0A8pMuJ"
      },
      "source": [
        "### Task 1.1.1 Setting up the labels.\n",
        "---\n",
        "\n",
        "Right now, we're using the first cuisine of the list for the restaurants, disregarding the others. </br>\n",
        "For further clean-up we've dropped the rows where the cuisine was NaN.\n",
        "\n",
        "For the machine, it's easier to understand numbers then text, so we've replaced the text with numerical values.\n",
        "\n",
        "First we would use a labelencoder, but the model could misunderstand the data. To prevent this we used a one-hot-encoder."
      ]
    },
    {
      "cell_type": "code",
      "execution_count": null,
      "metadata": {
        "colab": {
          "base_uri": "https://localhost:8080/",
          "height": 424
        },
        "id": "JKkUsx8M2CtZ",
        "outputId": "a39ad870-bf92-4f6a-b7a8-ca9af3a9d260"
      },
      "outputs": [
        {
          "output_type": "execute_result",
          "data": {
            "text/plain": [
              "        0    1    2    3    4    5    6    7    8    9  ...   40   41   42  \\\n",
              "0     0.0  0.0  0.0  0.0  0.0  0.0  1.0  0.0  0.0  0.0  ...  0.0  0.0  0.0   \n",
              "1     0.0  0.0  0.0  0.0  0.0  0.0  1.0  0.0  0.0  0.0  ...  0.0  0.0  0.0   \n",
              "2     0.0  0.0  0.0  0.0  0.0  0.0  1.0  0.0  0.0  0.0  ...  0.0  0.0  0.0   \n",
              "3     0.0  0.0  0.0  0.0  0.0  0.0  1.0  0.0  0.0  0.0  ...  0.0  0.0  0.0   \n",
              "4     0.0  0.0  0.0  0.0  0.0  0.0  1.0  0.0  0.0  0.0  ...  0.0  0.0  0.0   \n",
              "...   ...  ...  ...  ...  ...  ...  ...  ...  ...  ...  ...  ...  ...  ...   \n",
              "5549  0.0  0.0  0.0  0.0  0.0  0.0  0.0  0.0  0.0  0.0  ...  0.0  1.0  0.0   \n",
              "5550  0.0  0.0  0.0  0.0  0.0  0.0  0.0  0.0  0.0  0.0  ...  0.0  1.0  0.0   \n",
              "5551  0.0  0.0  0.0  0.0  0.0  0.0  0.0  0.0  0.0  0.0  ...  0.0  1.0  0.0   \n",
              "5552  0.0  0.0  0.0  0.0  0.0  0.0  0.0  0.0  0.0  0.0  ...  0.0  1.0  0.0   \n",
              "5553  0.0  0.0  0.0  0.0  0.0  0.0  0.0  0.0  0.0  0.0  ...  0.0  1.0  0.0   \n",
              "\n",
              "       43   44   45   46   47   48  \\\n",
              "0     0.0  0.0  0.0  0.0  0.0  0.0   \n",
              "1     0.0  0.0  0.0  0.0  0.0  0.0   \n",
              "2     0.0  0.0  0.0  0.0  0.0  0.0   \n",
              "3     0.0  0.0  0.0  0.0  0.0  0.0   \n",
              "4     0.0  0.0  0.0  0.0  0.0  0.0   \n",
              "...   ...  ...  ...  ...  ...  ...   \n",
              "5549  0.0  0.0  0.0  0.0  0.0  0.0   \n",
              "5550  0.0  0.0  0.0  0.0  0.0  0.0   \n",
              "5551  0.0  0.0  0.0  0.0  0.0  0.0   \n",
              "5552  0.0  0.0  0.0  0.0  0.0  0.0   \n",
              "5553  0.0  0.0  0.0  0.0  0.0  0.0   \n",
              "\n",
              "                                                   path  \n",
              "0     /content/drive/MyDrive/MachineLearning/images/...  \n",
              "1     /content/drive/MyDrive/MachineLearning/images/...  \n",
              "2     /content/drive/MyDrive/MachineLearning/images/...  \n",
              "3     /content/drive/MyDrive/MachineLearning/images/...  \n",
              "4     /content/drive/MyDrive/MachineLearning/images/...  \n",
              "...                                                 ...  \n",
              "5549  /content/drive/MyDrive/MachineLearning/images/...  \n",
              "5550  /content/drive/MyDrive/MachineLearning/images/...  \n",
              "5551  /content/drive/MyDrive/MachineLearning/images/...  \n",
              "5552  /content/drive/MyDrive/MachineLearning/images/...  \n",
              "5553  /content/drive/MyDrive/MachineLearning/images/...  \n",
              "\n",
              "[5554 rows x 50 columns]"
            ],
            "text/html": [
              "\n",
              "  <div id=\"df-cc299b53-625b-4a2e-bfdc-c0d725ba7669\">\n",
              "    <div class=\"colab-df-container\">\n",
              "      <div>\n",
              "<style scoped>\n",
              "    .dataframe tbody tr th:only-of-type {\n",
              "        vertical-align: middle;\n",
              "    }\n",
              "\n",
              "    .dataframe tbody tr th {\n",
              "        vertical-align: top;\n",
              "    }\n",
              "\n",
              "    .dataframe thead th {\n",
              "        text-align: right;\n",
              "    }\n",
              "</style>\n",
              "<table border=\"1\" class=\"dataframe\">\n",
              "  <thead>\n",
              "    <tr style=\"text-align: right;\">\n",
              "      <th></th>\n",
              "      <th>0</th>\n",
              "      <th>1</th>\n",
              "      <th>2</th>\n",
              "      <th>3</th>\n",
              "      <th>4</th>\n",
              "      <th>5</th>\n",
              "      <th>6</th>\n",
              "      <th>7</th>\n",
              "      <th>8</th>\n",
              "      <th>9</th>\n",
              "      <th>...</th>\n",
              "      <th>40</th>\n",
              "      <th>41</th>\n",
              "      <th>42</th>\n",
              "      <th>43</th>\n",
              "      <th>44</th>\n",
              "      <th>45</th>\n",
              "      <th>46</th>\n",
              "      <th>47</th>\n",
              "      <th>48</th>\n",
              "      <th>path</th>\n",
              "    </tr>\n",
              "  </thead>\n",
              "  <tbody>\n",
              "    <tr>\n",
              "      <th>0</th>\n",
              "      <td>0.0</td>\n",
              "      <td>0.0</td>\n",
              "      <td>0.0</td>\n",
              "      <td>0.0</td>\n",
              "      <td>0.0</td>\n",
              "      <td>0.0</td>\n",
              "      <td>1.0</td>\n",
              "      <td>0.0</td>\n",
              "      <td>0.0</td>\n",
              "      <td>0.0</td>\n",
              "      <td>...</td>\n",
              "      <td>0.0</td>\n",
              "      <td>0.0</td>\n",
              "      <td>0.0</td>\n",
              "      <td>0.0</td>\n",
              "      <td>0.0</td>\n",
              "      <td>0.0</td>\n",
              "      <td>0.0</td>\n",
              "      <td>0.0</td>\n",
              "      <td>0.0</td>\n",
              "      <td>/content/drive/MyDrive/MachineLearning/images/...</td>\n",
              "    </tr>\n",
              "    <tr>\n",
              "      <th>1</th>\n",
              "      <td>0.0</td>\n",
              "      <td>0.0</td>\n",
              "      <td>0.0</td>\n",
              "      <td>0.0</td>\n",
              "      <td>0.0</td>\n",
              "      <td>0.0</td>\n",
              "      <td>1.0</td>\n",
              "      <td>0.0</td>\n",
              "      <td>0.0</td>\n",
              "      <td>0.0</td>\n",
              "      <td>...</td>\n",
              "      <td>0.0</td>\n",
              "      <td>0.0</td>\n",
              "      <td>0.0</td>\n",
              "      <td>0.0</td>\n",
              "      <td>0.0</td>\n",
              "      <td>0.0</td>\n",
              "      <td>0.0</td>\n",
              "      <td>0.0</td>\n",
              "      <td>0.0</td>\n",
              "      <td>/content/drive/MyDrive/MachineLearning/images/...</td>\n",
              "    </tr>\n",
              "    <tr>\n",
              "      <th>2</th>\n",
              "      <td>0.0</td>\n",
              "      <td>0.0</td>\n",
              "      <td>0.0</td>\n",
              "      <td>0.0</td>\n",
              "      <td>0.0</td>\n",
              "      <td>0.0</td>\n",
              "      <td>1.0</td>\n",
              "      <td>0.0</td>\n",
              "      <td>0.0</td>\n",
              "      <td>0.0</td>\n",
              "      <td>...</td>\n",
              "      <td>0.0</td>\n",
              "      <td>0.0</td>\n",
              "      <td>0.0</td>\n",
              "      <td>0.0</td>\n",
              "      <td>0.0</td>\n",
              "      <td>0.0</td>\n",
              "      <td>0.0</td>\n",
              "      <td>0.0</td>\n",
              "      <td>0.0</td>\n",
              "      <td>/content/drive/MyDrive/MachineLearning/images/...</td>\n",
              "    </tr>\n",
              "    <tr>\n",
              "      <th>3</th>\n",
              "      <td>0.0</td>\n",
              "      <td>0.0</td>\n",
              "      <td>0.0</td>\n",
              "      <td>0.0</td>\n",
              "      <td>0.0</td>\n",
              "      <td>0.0</td>\n",
              "      <td>1.0</td>\n",
              "      <td>0.0</td>\n",
              "      <td>0.0</td>\n",
              "      <td>0.0</td>\n",
              "      <td>...</td>\n",
              "      <td>0.0</td>\n",
              "      <td>0.0</td>\n",
              "      <td>0.0</td>\n",
              "      <td>0.0</td>\n",
              "      <td>0.0</td>\n",
              "      <td>0.0</td>\n",
              "      <td>0.0</td>\n",
              "      <td>0.0</td>\n",
              "      <td>0.0</td>\n",
              "      <td>/content/drive/MyDrive/MachineLearning/images/...</td>\n",
              "    </tr>\n",
              "    <tr>\n",
              "      <th>4</th>\n",
              "      <td>0.0</td>\n",
              "      <td>0.0</td>\n",
              "      <td>0.0</td>\n",
              "      <td>0.0</td>\n",
              "      <td>0.0</td>\n",
              "      <td>0.0</td>\n",
              "      <td>1.0</td>\n",
              "      <td>0.0</td>\n",
              "      <td>0.0</td>\n",
              "      <td>0.0</td>\n",
              "      <td>...</td>\n",
              "      <td>0.0</td>\n",
              "      <td>0.0</td>\n",
              "      <td>0.0</td>\n",
              "      <td>0.0</td>\n",
              "      <td>0.0</td>\n",
              "      <td>0.0</td>\n",
              "      <td>0.0</td>\n",
              "      <td>0.0</td>\n",
              "      <td>0.0</td>\n",
              "      <td>/content/drive/MyDrive/MachineLearning/images/...</td>\n",
              "    </tr>\n",
              "    <tr>\n",
              "      <th>...</th>\n",
              "      <td>...</td>\n",
              "      <td>...</td>\n",
              "      <td>...</td>\n",
              "      <td>...</td>\n",
              "      <td>...</td>\n",
              "      <td>...</td>\n",
              "      <td>...</td>\n",
              "      <td>...</td>\n",
              "      <td>...</td>\n",
              "      <td>...</td>\n",
              "      <td>...</td>\n",
              "      <td>...</td>\n",
              "      <td>...</td>\n",
              "      <td>...</td>\n",
              "      <td>...</td>\n",
              "      <td>...</td>\n",
              "      <td>...</td>\n",
              "      <td>...</td>\n",
              "      <td>...</td>\n",
              "      <td>...</td>\n",
              "      <td>...</td>\n",
              "    </tr>\n",
              "    <tr>\n",
              "      <th>5549</th>\n",
              "      <td>0.0</td>\n",
              "      <td>0.0</td>\n",
              "      <td>0.0</td>\n",
              "      <td>0.0</td>\n",
              "      <td>0.0</td>\n",
              "      <td>0.0</td>\n",
              "      <td>0.0</td>\n",
              "      <td>0.0</td>\n",
              "      <td>0.0</td>\n",
              "      <td>0.0</td>\n",
              "      <td>...</td>\n",
              "      <td>0.0</td>\n",
              "      <td>1.0</td>\n",
              "      <td>0.0</td>\n",
              "      <td>0.0</td>\n",
              "      <td>0.0</td>\n",
              "      <td>0.0</td>\n",
              "      <td>0.0</td>\n",
              "      <td>0.0</td>\n",
              "      <td>0.0</td>\n",
              "      <td>/content/drive/MyDrive/MachineLearning/images/...</td>\n",
              "    </tr>\n",
              "    <tr>\n",
              "      <th>5550</th>\n",
              "      <td>0.0</td>\n",
              "      <td>0.0</td>\n",
              "      <td>0.0</td>\n",
              "      <td>0.0</td>\n",
              "      <td>0.0</td>\n",
              "      <td>0.0</td>\n",
              "      <td>0.0</td>\n",
              "      <td>0.0</td>\n",
              "      <td>0.0</td>\n",
              "      <td>0.0</td>\n",
              "      <td>...</td>\n",
              "      <td>0.0</td>\n",
              "      <td>1.0</td>\n",
              "      <td>0.0</td>\n",
              "      <td>0.0</td>\n",
              "      <td>0.0</td>\n",
              "      <td>0.0</td>\n",
              "      <td>0.0</td>\n",
              "      <td>0.0</td>\n",
              "      <td>0.0</td>\n",
              "      <td>/content/drive/MyDrive/MachineLearning/images/...</td>\n",
              "    </tr>\n",
              "    <tr>\n",
              "      <th>5551</th>\n",
              "      <td>0.0</td>\n",
              "      <td>0.0</td>\n",
              "      <td>0.0</td>\n",
              "      <td>0.0</td>\n",
              "      <td>0.0</td>\n",
              "      <td>0.0</td>\n",
              "      <td>0.0</td>\n",
              "      <td>0.0</td>\n",
              "      <td>0.0</td>\n",
              "      <td>0.0</td>\n",
              "      <td>...</td>\n",
              "      <td>0.0</td>\n",
              "      <td>1.0</td>\n",
              "      <td>0.0</td>\n",
              "      <td>0.0</td>\n",
              "      <td>0.0</td>\n",
              "      <td>0.0</td>\n",
              "      <td>0.0</td>\n",
              "      <td>0.0</td>\n",
              "      <td>0.0</td>\n",
              "      <td>/content/drive/MyDrive/MachineLearning/images/...</td>\n",
              "    </tr>\n",
              "    <tr>\n",
              "      <th>5552</th>\n",
              "      <td>0.0</td>\n",
              "      <td>0.0</td>\n",
              "      <td>0.0</td>\n",
              "      <td>0.0</td>\n",
              "      <td>0.0</td>\n",
              "      <td>0.0</td>\n",
              "      <td>0.0</td>\n",
              "      <td>0.0</td>\n",
              "      <td>0.0</td>\n",
              "      <td>0.0</td>\n",
              "      <td>...</td>\n",
              "      <td>0.0</td>\n",
              "      <td>1.0</td>\n",
              "      <td>0.0</td>\n",
              "      <td>0.0</td>\n",
              "      <td>0.0</td>\n",
              "      <td>0.0</td>\n",
              "      <td>0.0</td>\n",
              "      <td>0.0</td>\n",
              "      <td>0.0</td>\n",
              "      <td>/content/drive/MyDrive/MachineLearning/images/...</td>\n",
              "    </tr>\n",
              "    <tr>\n",
              "      <th>5553</th>\n",
              "      <td>0.0</td>\n",
              "      <td>0.0</td>\n",
              "      <td>0.0</td>\n",
              "      <td>0.0</td>\n",
              "      <td>0.0</td>\n",
              "      <td>0.0</td>\n",
              "      <td>0.0</td>\n",
              "      <td>0.0</td>\n",
              "      <td>0.0</td>\n",
              "      <td>0.0</td>\n",
              "      <td>...</td>\n",
              "      <td>0.0</td>\n",
              "      <td>1.0</td>\n",
              "      <td>0.0</td>\n",
              "      <td>0.0</td>\n",
              "      <td>0.0</td>\n",
              "      <td>0.0</td>\n",
              "      <td>0.0</td>\n",
              "      <td>0.0</td>\n",
              "      <td>0.0</td>\n",
              "      <td>/content/drive/MyDrive/MachineLearning/images/...</td>\n",
              "    </tr>\n",
              "  </tbody>\n",
              "</table>\n",
              "<p>5554 rows × 50 columns</p>\n",
              "</div>\n",
              "      <button class=\"colab-df-convert\" onclick=\"convertToInteractive('df-cc299b53-625b-4a2e-bfdc-c0d725ba7669')\"\n",
              "              title=\"Convert this dataframe to an interactive table.\"\n",
              "              style=\"display:none;\">\n",
              "        \n",
              "  <svg xmlns=\"http://www.w3.org/2000/svg\" height=\"24px\"viewBox=\"0 0 24 24\"\n",
              "       width=\"24px\">\n",
              "    <path d=\"M0 0h24v24H0V0z\" fill=\"none\"/>\n",
              "    <path d=\"M18.56 5.44l.94 2.06.94-2.06 2.06-.94-2.06-.94-.94-2.06-.94 2.06-2.06.94zm-11 1L8.5 8.5l.94-2.06 2.06-.94-2.06-.94L8.5 2.5l-.94 2.06-2.06.94zm10 10l.94 2.06.94-2.06 2.06-.94-2.06-.94-.94-2.06-.94 2.06-2.06.94z\"/><path d=\"M17.41 7.96l-1.37-1.37c-.4-.4-.92-.59-1.43-.59-.52 0-1.04.2-1.43.59L10.3 9.45l-7.72 7.72c-.78.78-.78 2.05 0 2.83L4 21.41c.39.39.9.59 1.41.59.51 0 1.02-.2 1.41-.59l7.78-7.78 2.81-2.81c.8-.78.8-2.07 0-2.86zM5.41 20L4 18.59l7.72-7.72 1.47 1.35L5.41 20z\"/>\n",
              "  </svg>\n",
              "      </button>\n",
              "      \n",
              "  <style>\n",
              "    .colab-df-container {\n",
              "      display:flex;\n",
              "      flex-wrap:wrap;\n",
              "      gap: 12px;\n",
              "    }\n",
              "\n",
              "    .colab-df-convert {\n",
              "      background-color: #E8F0FE;\n",
              "      border: none;\n",
              "      border-radius: 50%;\n",
              "      cursor: pointer;\n",
              "      display: none;\n",
              "      fill: #1967D2;\n",
              "      height: 32px;\n",
              "      padding: 0 0 0 0;\n",
              "      width: 32px;\n",
              "    }\n",
              "\n",
              "    .colab-df-convert:hover {\n",
              "      background-color: #E2EBFA;\n",
              "      box-shadow: 0px 1px 2px rgba(60, 64, 67, 0.3), 0px 1px 3px 1px rgba(60, 64, 67, 0.15);\n",
              "      fill: #174EA6;\n",
              "    }\n",
              "\n",
              "    [theme=dark] .colab-df-convert {\n",
              "      background-color: #3B4455;\n",
              "      fill: #D2E3FC;\n",
              "    }\n",
              "\n",
              "    [theme=dark] .colab-df-convert:hover {\n",
              "      background-color: #434B5C;\n",
              "      box-shadow: 0px 1px 3px 1px rgba(0, 0, 0, 0.15);\n",
              "      filter: drop-shadow(0px 1px 2px rgba(0, 0, 0, 0.3));\n",
              "      fill: #FFFFFF;\n",
              "    }\n",
              "  </style>\n",
              "\n",
              "      <script>\n",
              "        const buttonEl =\n",
              "          document.querySelector('#df-cc299b53-625b-4a2e-bfdc-c0d725ba7669 button.colab-df-convert');\n",
              "        buttonEl.style.display =\n",
              "          google.colab.kernel.accessAllowed ? 'block' : 'none';\n",
              "\n",
              "        async function convertToInteractive(key) {\n",
              "          const element = document.querySelector('#df-cc299b53-625b-4a2e-bfdc-c0d725ba7669');\n",
              "          const dataTable =\n",
              "            await google.colab.kernel.invokeFunction('convertToInteractive',\n",
              "                                                     [key], {});\n",
              "          if (!dataTable) return;\n",
              "\n",
              "          const docLinkHtml = 'Like what you see? Visit the ' +\n",
              "            '<a target=\"_blank\" href=https://colab.research.google.com/notebooks/data_table.ipynb>data table notebook</a>'\n",
              "            + ' to learn more about interactive tables.';\n",
              "          element.innerHTML = '';\n",
              "          dataTable['output_type'] = 'display_data';\n",
              "          await google.colab.output.renderOutput(dataTable, element);\n",
              "          const docLink = document.createElement('div');\n",
              "          docLink.innerHTML = docLinkHtml;\n",
              "          element.appendChild(docLink);\n",
              "        }\n",
              "      </script>\n",
              "    </div>\n",
              "  </div>\n",
              "  "
            ]
          },
          "metadata": {},
          "execution_count": 4
        }
      ],
      "source": [
        "path_images = glob.glob(\"/content/drive/MyDrive/MachineLearning/images/*.jpg\")\n",
        "\n",
        "afbeeldingen_df = pd.DataFrame(path_images, columns=[\"path\"])\n",
        "afbeeldingen_df[\"bestandsnaam\"] = afbeeldingen_df[\"path\"].apply(os.path.basename)\n",
        "afbeeldingen_df[\"restaurant_id\"] = afbeeldingen_df[\"bestandsnaam\"].str.split(\"_\",expand=True)[0]\n",
        "afbeeldingen_df['restaurant_id'] = afbeeldingen_df['restaurant_id'].astype(int)\n",
        "\n",
        "afbeeldingen_df = pd.merge(afbeeldingen_df, restaurant_df, left_on=\"restaurant_id\", right_on=\"id\", how=\"inner\")\n",
        "\n",
        "afbeeldingen_df['cuisines'] = afbeeldingen_df['cuisines'].str.split(',').str[:1]\n",
        "afbeeldingen_df['cuisines'] = afbeeldingen_df['cuisines'].str[0]\n",
        "\n",
        "afbeeldingen_df.dropna(subset=['cuisines'], inplace=True)\n",
        "afbeeldingen_df.reset_index(inplace=True)\n",
        "\n",
        "enc = OneHotEncoder(handle_unknown='ignore')\n",
        "y = afbeeldingen_df['cuisines'].values\n",
        "y = enc.fit_transform(y.reshape(-1,1))\n",
        "y_df = pd.DataFrame(y.toarray())\n",
        "\n",
        "data_hot = y_df\n",
        "data_hot['path'] = afbeeldingen_df['path']\n",
        "data_hot"
      ]
    },
    {
      "cell_type": "markdown",
      "metadata": {
        "id": "3tC7BS8TYbTx"
      },
      "source": [
        "The table now contains the path to the image and the rest of the columns are the hot_encoded values."
      ]
    },
    {
      "cell_type": "markdown",
      "metadata": {
        "id": "ZtTj6MZzdz1v"
      },
      "source": [
        "### Task 1.1.2 Setting up images\n",
        "---\n",
        "\n",
        "Because the images have different sizes, we'll resize them all to (224,224,3).\n",
        "\n",
        "  -> Images will have height and width 224.\n",
        "\n",
        "  -> The 3rd dimension with size 3 is for the RGB-values.\n",
        "\n",
        "In sprint 2, we saw that a lot of images where black. These images aren't useful for the classification, so we opted to remove them. Also, images containing only a single color were removed.\n",
        "- We did this by using the grayscale of the image and calculating the amount of zeros.\n"
      ]
    },
    {
      "cell_type": "code",
      "execution_count": null,
      "metadata": {
        "id": "i9L4ZzGRJypt"
      },
      "outputs": [],
      "source": [
        "images_df = []\n",
        "label_df = []\n",
        "\n",
        "# Iterate over the rows of the dataframe\n",
        "for index, row in data_hot.iterrows():\n",
        "  # Make sure the 'path' column exists and is not empty\n",
        "  if 'path' in row and row['path']:\n",
        "    # Try to read the image and process it\n",
        "    try:\n",
        "      img = cv2.imread(row['path'])\n",
        "      gray_image = cv2.cvtColor(img, cv2.COLOR_BGR2GRAY)\n",
        "      if cv2.countNonZero(gray_image) != 0 and cv2.countNonZero(gray_image) != gray_image.size:\n",
        "        # Remove all one color images\n",
        "        img = cv2.resize(img, (224, 224))\n",
        "        if img.shape[2] == 1:\n",
        "          img = np.dstack([img, img, img])\n",
        "        img = cv2.cvtColor(img, cv2.COLOR_BGR2RGB)\n",
        "        img = img.astype(np.float32)/255.0\n",
        "        images_df.append(img)\n",
        "        label_df.append(row.iloc[:49])\n",
        "    except Exception as e:\n",
        "      # Print the error message if there is an error reading the image\n",
        "      print(f\"Error reading image at index {index}: {e}\")\n",
        "  else:\n",
        "    # Print a message if the 'path' column is missing or empty\n",
        "    print(f\"Missing or empty 'path' column at index {index}\")"
      ]
    },
    {
      "cell_type": "markdown",
      "metadata": {
        "id": "AHyUGZQV7xUe"
      },
      "source": [
        "### Task 1.1.2.1 Deleting duplicate images\n",
        "\n",
        "When detecting abnormals in the data. (Task 2) we saw that there were a lot of duplicate images. (stock pictures?).\n",
        "\n",
        "The same images had different labels, that leads to the model having to deal with contradictions, making the training noticeably harder."
      ]
    },
    {
      "cell_type": "code",
      "execution_count": null,
      "metadata": {
        "colab": {
          "background_save": true
        },
        "id": "giPbcYFEtv_v"
      },
      "outputs": [],
      "source": [
        "# Remove duplicate images from the dataframe\n",
        "df = pd.DataFrame()\n",
        "df['image'] = images_df\n",
        "df['label'] = label_df\n",
        "\n",
        "# Create a function to check if an image is a duplicate\n",
        "def is_duplicate(row):\n",
        "    image = row['image']\n",
        "    # Check if the image is a duplicate\n",
        "    return any(np.all(image == x) for x in df['image'].values[:row.name])\n",
        "\n",
        "# Use the apply method to apply the function to each row of the dataframe\n",
        "df['duplicate'] = df.apply(is_duplicate, axis=1)\n",
        "\n",
        "# Remove duplicate images from the dataframe\n",
        "df = df.drop(df[df['duplicate'] == True].index)\n",
        "\n",
        "images_df = df['image'].values.tolist()\n",
        "label_df = pd.DataFrame(df['label'].to_list())"
      ]
    },
    {
      "cell_type": "markdown",
      "metadata": {
        "id": "QIpXT0JQFDqR"
      },
      "source": [
        "## Task 1.2 Preparing the neural network"
      ]
    },
    {
      "cell_type": "markdown",
      "metadata": {
        "id": "knZlqHd8zsuV"
      },
      "source": [
        "### Task 1.2.1 Calculate the amount of output classes\n",
        "\n",
        "For classification, the last layer of the neural network needs the same amount of outputs as there are possiblie classes. Herefor, we calculate all possible classes. These are all the unique cuisines in the dataset."
      ]
    },
    {
      "cell_type": "code",
      "execution_count": null,
      "metadata": {
        "colab": {
          "base_uri": "https://localhost:8080/"
        },
        "id": "CDbTqeRVzsfX",
        "outputId": "8ebfe6db-95cd-4972-957a-4d3806139e98"
      },
      "outputs": [
        {
          "data": {
            "text/plain": [
              "49"
            ]
          },
          "execution_count": 7,
          "metadata": {},
          "output_type": "execute_result"
        }
      ],
      "source": [
        "amountOfClasses = afbeeldingen_df['cuisines'].unique().size\n",
        "amountOfClasses"
      ]
    },
    {
      "cell_type": "markdown",
      "metadata": {
        "id": "uzRdgbWIZZjy"
      },
      "source": [
        "### Task 1.2.2 Split the data in test and training\n",
        "\n",
        "Because we have a small amount of data, we take a bigger part of it for training. 90% for training and 10% for testing."
      ]
    },
    {
      "cell_type": "code",
      "execution_count": null,
      "metadata": {
        "id": "kIkokcXMKD-q"
      },
      "outputs": [],
      "source": [
        "X_train, X_test, y_train, y_test = train_test_split(images_df, label_df, test_size=0.1) # 90% training and 10% test\n",
        "\n",
        "#y_train = to_categorical(y_train, amountOfClasses)\n",
        "#y_test = to_categorical(y_test, amountOfClasses)"
      ]
    },
    {
      "cell_type": "markdown",
      "metadata": {
        "id": "4ltOlFrhJ4mF"
      },
      "source": [
        "### Task 1.2.3 Setting up the CNN Image Classification model\n",
        "---\n",
        "\n",
        "We want to do image classification, to achieve this goal we'll use a convolutional neural network.\n",
        "\n",
        "The model will be a linear stack of layers.\n",
        "\n",
        "- We start with a convolutional layer with 32 filters and a kernel size of 3 by 3.\n",
        "The input shape are the images.\n",
        "This layer is responsible for extracting features from the input image.\n",
        "We start with a lower filter size for the first convolutional layer and increase the size as we go deeper into the network. In a Convolutional Neural Network, the filters in the deeper layers are able to capture more complex features of an image because they are able to combine the features learned by the filters in the earlier layers. When you increase the number of filters in the deeper layers, it allows the network to learn more complex and higher-level features of the image, which can be more useful for image classification tasks.\n",
        "\n",
        "- We add an activation layer to it. We use ReLU as the activation function, with the purpose of introducing non-linearity into the model. ReLU is a common choice as activation function, as it is efficient and could allow the model to converge faster opposed to some other activation functions.\n",
        "\n",
        "- Next we want to downsample the output of the convolution layer. The pool size of (2,2) is used to downsample the input by a factor of 2 in both dimensions, which reduces the spatial dimensions of the output and allows the network to focus on the most important features.\n",
        "\n",
        "- We repeat this pattern, an increase of filters (32 to 64)  will increase the number of parameters in the model, which can allow the model to learn more complex features of the input data. At each pattern we added a dropout, to prevent overfitting. By randomly setting a fraction of the activations in the model to zero during training. the model is forced to learn more from the remaining parameters.\n",
        "\n",
        "- In the end we flatten the output, so our 3D feature map results in 1D feature vectors.\n",
        "\n",
        "- For the output we use 2 connected dense layers, where the last dense has the same amount of output nodes as there are labels/classes.\n",
        "\n",
        "- For the last activation-layer was use softmax, a common used activation layer for a cCassification Neural Network. Softmax converts the output of the final layer of the network, which is a set of raw prediction scores, into a probability distribution over the classes. This makes it possible for the network to distribute the probabilities of the different classes."
      ]
    },
    {
      "cell_type": "code",
      "execution_count": null,
      "metadata": {
        "id": "Q-WakI8yMDn6"
      },
      "outputs": [],
      "source": [
        "model = Sequential()\n",
        "\n",
        "model.add(Conv2D(32, (3,3), input_shape=(224,224,3))) #Eerste layer,\n",
        "model.add(Activation('relu'))\n",
        "model.add(MaxPooling2D(pool_size=(2,2)))\n",
        "\n",
        "model.add(Conv2D(64, (3,3)))\n",
        "model.add(Activation('relu'))\n",
        "model.add(MaxPooling2D(pool_size=(2,2)))\n",
        "model.add(Dropout(0.5))\n",
        "\n",
        "model.add(Conv2D(64, (3,3)))\n",
        "model.add(Activation('relu'))\n",
        "model.add(MaxPooling2D(pool_size=(2,2)))\n",
        "model.add(Dropout(0.5))\n",
        "\n",
        "model.add(Flatten()) # Converting 3D feature maps to 1D feature vectors\n",
        "\n",
        "model.add(Dense(64))\n",
        "model.add(Activation('relu'))\n",
        "model.add(Dense(amountOfClasses)) #Amount of outputs\n",
        "model.add(Activation('softmax')) #For multi classification"
      ]
    },
    {
      "cell_type": "markdown",
      "metadata": {
        "id": "h0Rtkb3AKIy9"
      },
      "source": [
        "### Task 1.2.4 Compile the model\n",
        "---\n",
        "\n",
        "#### Learning rate and momentum\n",
        "The model will start with a learning rate of 0.01 and momentum of 0.7.\n",
        "\n",
        "-> When stuck in a local minimum, we increased the momentum, by 0.1.\n",
        "\n",
        "-> Over time we increased the learning rate, for faster modeling and testing if there are some improvements.\n",
        "\n",
        "\n",
        "We start with a higher momentum, to get to the global minima faster and attemting to escape local minima.\n",
        "\n",
        "We do however take the risk of going past the global minima by using a higher momentum.\n",
        "\n",
        "\n",
        "For the learning rate we use a small value, so that the optimizer takes small steps when updating the model's weights. The network will train slower, but also more accurately to the global minimum.\n",
        "\n",
        "#### Lossfunction and optimizer\n",
        "\n",
        "For the loss function we choose the most common one, within Tensorflow for multi-classification: categorical_crossentropy.\n",
        "\n",
        "For the optimizer we started with using SGD, because:\n",
        "  - It's easy to use/implement\n",
        "  - It only needs to compute the gradient of the loss function, but not for the whole dataset, but for a single or small batch of datapoints.\n",
        "  - SGD is capable of dealing with high-dimensional datasets, which is useful when working with images.\n",
        "  - SGD should be better at escaping local minima."
      ]
    },
    {
      "cell_type": "code",
      "execution_count": null,
      "metadata": {
        "colab": {
          "base_uri": "https://localhost:8080/"
        },
        "id": "XIUiKqQBKGto",
        "outputId": "bddd7f63-c8c3-4a23-f064-5bb99a957e3b"
      },
      "outputs": [
        {
          "name": "stderr",
          "output_type": "stream",
          "text": [
            "/usr/local/lib/python3.8/dist-packages/keras/optimizers/optimizer_v2/gradient_descent.py:108: UserWarning: The `lr` argument is deprecated, use `learning_rate` instead.\n",
            "  super(SGD, self).__init__(name, **kwargs)\n"
          ]
        }
      ],
      "source": [
        "# compile model\n",
        "opt = SGD(lr=0.05, momentum=1)\n",
        "model.compile(loss='categorical_crossentropy', optimizer=opt, metrics=['accuracy'])"
      ]
    },
    {
      "cell_type": "markdown",
      "metadata": {
        "id": "7KGjiHGhKRaN"
      },
      "source": [
        "## Task 1.3 Fitting model\n",
        "\n",
        "We increased the batch_size for better results. The downsite to this, is that it will take more time for the neural network to train.\n",
        "\n",
        "A smaller batch size can lead to faster training, but can also result in higher variance in the model's performance. To prevent the higher variance, we started with a higher amount of samples to use.\n",
        "\n",
        "We used the most common batch size: 32,64 and 128. Starting with 32 and increasing to 128.\n",
        "\n",
        "The number of epochs starts at 100 and will be increased to see if there are better results. The model with go over the dataset 100 times.\n",
        "-  that means: (6094/32) * 100 batches during the training.\n",
        "  - Depending on the batch size, the amount of batches will be less."
      ]
    },
    {
      "cell_type": "code",
      "execution_count": null,
      "metadata": {
        "colab": {
          "base_uri": "https://localhost:8080/"
        },
        "id": "euXBH-6CKLLc",
        "outputId": "e6145042-0ff8-4e85-dfab-374623d8aae0"
      },
      "outputs": [
        {
          "name": "stderr",
          "output_type": "stream",
          "text": [
            "<ipython-input-53-80a9b062cf29>:9: DeprecationWarning: `np.float` is a deprecated alias for the builtin `float`. To silence this warning, use `float` by itself. Doing this will not modify any behavior and is safe. If you specifically wanted the numpy scalar type, use `np.float64` here.\n",
            "Deprecated in NumPy 1.20; for more details and guidance: https://numpy.org/devdocs/release/1.20.0-notes.html#deprecations\n",
            "  y=np.array(y_train, dtype=np.float),\n"
          ]
        },
        {
          "name": "stdout",
          "output_type": "stream",
          "text": [
            "Epoch 1/10\n",
            "95/95 [==============================] - 15s 58ms/step - loss: 6.4557 - accuracy: 0.3193\n",
            "Epoch 2/10\n",
            "95/95 [==============================] - 5s 53ms/step - loss: 3.1138 - accuracy: 0.3513\n",
            "Epoch 3/10\n",
            "95/95 [==============================] - 5s 54ms/step - loss: 3.1201 - accuracy: 0.3865\n",
            "Epoch 4/10\n",
            "95/95 [==============================] - 5s 54ms/step - loss: 3.0791 - accuracy: 0.2642\n",
            "Epoch 5/10\n",
            "95/95 [==============================] - 5s 54ms/step - loss: 3.1854 - accuracy: 0.3928\n",
            "Epoch 6/10\n",
            "95/95 [==============================] - 5s 54ms/step - loss: 3.2183 - accuracy: 0.3846\n",
            "Epoch 7/10\n",
            "95/95 [==============================] - 5s 54ms/step - loss: 3.0694 - accuracy: 0.3582\n",
            "Epoch 8/10\n",
            "95/95 [==============================] - 5s 54ms/step - loss: 3.3566 - accuracy: 0.3503\n",
            "Epoch 9/10\n",
            "95/95 [==============================] - 5s 54ms/step - loss: 3.3325 - accuracy: 0.3727\n",
            "Epoch 10/10\n",
            "95/95 [==============================] - 5s 54ms/step - loss: 3.3278 - accuracy: 0.4037\n"
          ]
        },
        {
          "data": {
            "text/plain": [
              "<keras.callbacks.History at 0x7f0db81343a0>"
            ]
          },
          "execution_count": 53,
          "metadata": {},
          "output_type": "execute_result"
        }
      ],
      "source": [
        "batch_size = 32 #Number of samples before updating the network\n",
        "nb_epochs = 10 #Epoch = aantal keer dat het algoritme over de training dataset gaat.\n",
        "\n",
        "#model.fit(x=np.array(X_train),\n",
        "#          y=np.array(y_train, dtype=np.float))\n",
        "#X_train = tf.convert_to_tensor(X_train)\n",
        "\n",
        "model.fit(x=np.array(X_train),\n",
        "          y=np.array(y_train, dtype=np.float),\n",
        "          batch_size=batch_size,\n",
        "          epochs=nb_epochs)"
      ]
    },
    {
      "cell_type": "code",
      "execution_count": null,
      "metadata": {
        "colab": {
          "base_uri": "https://localhost:8080/"
        },
        "id": "3HVrQRodRO7y",
        "outputId": "878c0bf4-1e97-4923-b941-9de6a8bbc38e"
      },
      "outputs": [
        {
          "name": "stderr",
          "output_type": "stream",
          "text": [
            "<ipython-input-54-792df1b3fd92>:1: DeprecationWarning: `np.float` is a deprecated alias for the builtin `float`. To silence this warning, use `float` by itself. Doing this will not modify any behavior and is safe. If you specifically wanted the numpy scalar type, use `np.float64` here.\n",
            "Deprecated in NumPy 1.20; for more details and guidance: https://numpy.org/devdocs/release/1.20.0-notes.html#deprecations\n",
            "  loss, acc = model.evaluate(np.array(X_test), np.array(y_test, dtype=np.float), batch_size=batch_size)\n"
          ]
        },
        {
          "name": "stdout",
          "output_type": "stream",
          "text": [
            "11/11 [==============================] - 1s 43ms/step - loss: 3.2365 - accuracy: 0.4837\n",
            "Loss: 3.2364821434020996 accuracy:  0.48367953300476074\n"
          ]
        }
      ],
      "source": [
        "loss, acc = model.evaluate(np.array(X_test), np.array(y_test, dtype=np.float), batch_size=batch_size)\n",
        "print('Loss:', loss, 'accuracy: ', acc)"
      ]
    },
    {
      "cell_type": "markdown",
      "metadata": {
        "id": "fbDixjjS78D9"
      },
      "source": [
        "## Task 1.4 Evaluate model:\n",
        "\n",
        "In the model above, we can assume that the model is stuck in a local minimum.\n",
        "\n",
        "We tried to train with different the learning rates and momentums, but without success. Even by playing with the batches and the amount of epochs, we couldn't increase the performance of the model.\n",
        "\n",
        "That the test-data had a higher score then the trainingsdata, could indicate that the distribution of the data isn't suited for this task."
      ]
    },
    {
      "cell_type": "markdown",
      "metadata": {
        "id": "QX_iotCTD5gM"
      },
      "source": [
        "## Task 1.5 Improve the results\n",
        "\n",
        "It is quite evident that our validation accuracy is not that good. There are a number of tricks that we can use to improve the performance of the model.\n",
        "\n",
        "- Adding more layers to the model. This can help the model learn more complex features from the input data, allowing it to make more accurate predictions.\n",
        "\n",
        "- A larger dataset can provide the model with more examples to learn from, which can help it generalize better to unseen data.\n",
        "  \n",
        "  -> (-) We don't have more data.\n",
        "\n",
        "- Using data augmentation: This can help the model generalize better to unseen data by providing it with more diverse examples to learn from.\n",
        "  - Check the distribution of the data. Increase the amount of datapoints, which are less present in the dataset. This seems a promising and achievable solution for our problem.\n",
        "  \n",
        "- Use a different optimizer. Using a different optimizer, such as Adam or RMSprop, can potentially improve the model's performance."
      ]
    },
    {
      "cell_type": "markdown",
      "metadata": {
        "id": "CF5I9rndjiNI"
      },
      "source": [
        "## Task 1.6 Discuss distribution of the data\n",
        "\n",
        "=> In the dataset the duplicates are already removed. </br>\n",
        "</br>\n",
        "\n",
        "We see that the data has unbalanced classes. This can lead to problems such as:\n",
        "- High chance that our test-data wouldn't representive for the trainingdata.\n",
        "\n",
        "A large amount of rows are labeled as 'Belgian', this label occurs 5x more frequently than the value with the second highest frequency.\n",
        "  - We need to fix the unbalanced classes before we can train the model.\n",
        "\n",
        "\n",
        "Options for unbalanced data:\n",
        "  - Under-sampling: here, samples of the majority class will be removed. Because of the lack of data, this isn't hulpful for us.\n",
        "\n",
        "  - Over-sampling: here samples of the minority class will be duplicated\n",
        "  - Data augmenation: inserting new samples based on existing samples. But they are slightly different.\n",
        "    - This will affect the balance of the dataset.\n",
        "  - Instead of taking the first cuisine, we can pick a random cuisines correlated to the restaurant.\n",
        "\n",
        "<br/>\n",
        "\n",
        "=> We opted for **data augmentation**\n",
        "\n",
        "Reasons for the unbalanced data (by gut feeling) :\n",
        "  - We take the first cuisine that is listed in the datarow. Further in the notebook we'll try multi-label classification, where we won't have this problem.\n",
        "  - The dataset is for Belgian restaurants, so it isn't the weird that the majority of the cuisines are labeled as 'Belgian'."
      ]
    },
    {
      "cell_type": "code",
      "execution_count": null,
      "metadata": {
        "colab": {
          "base_uri": "https://localhost:8080/"
        },
        "id": "CTiH_jbaVVif",
        "outputId": "25c0d55c-4ab1-40c5-9232-010c3159ac01"
      },
      "outputs": [
        {
          "name": "stderr",
          "output_type": "stream",
          "text": [
            "/usr/local/lib/python3.8/dist-packages/sklearn/preprocessing/_encoders.py:582: FutureWarning: Arrays of bytes/strings is being converted to decimal numbers if dtype='numeric'. This behavior is deprecated in 0.24 and will be removed in 1.1 (renaming of 0.26). Please convert your data to numeric values explicitly instead.\n",
            "  X = check_array(X, accept_sparse=\"csr\")\n"
          ]
        },
        {
          "data": {
            "text/plain": [
              "array([['Belgian'],\n",
              "       ['Belgian'],\n",
              "       ['Belgian'],\n",
              "       ...,\n",
              "       ['Steakhouse'],\n",
              "       ['Steakhouse'],\n",
              "       ['Steakhouse']], dtype=object)"
            ]
          },
          "execution_count": 59,
          "metadata": {},
          "output_type": "execute_result"
        }
      ],
      "source": [
        "categories_decoded = enc.inverse_transform(label_df)\n",
        "categories_decoded"
      ]
    },
    {
      "cell_type": "code",
      "execution_count": null,
      "metadata": {
        "colab": {
          "base_uri": "https://localhost:8080/"
        },
        "id": "mpjnwm6IdRDy",
        "outputId": "3ddaeca0-5caa-429e-8f2c-6610e86a7674"
      },
      "outputs": [
        {
          "data": {
            "text/plain": [
              "Belgian             1517\n",
              "Italian              508\n",
              "French               391\n",
              "European             188\n",
              "Bar                  187\n",
              "Chinese              153\n",
              "Cafe                 112\n",
              "Japanese             108\n",
              "International         93\n",
              "Pizza                 87\n",
              "American              81\n",
              "Turkish               78\n",
              "Spanish               64\n",
              "Contemporary          63\n",
              "Seafood               49\n",
              "Sushi                 48\n",
              "Pub                   47\n",
              "Asian                 45\n",
              "Dutch                 44\n",
              "Thai                  43\n",
              "Mediterranean         42\n",
              "Grill                 40\n",
              "Fast Food             40\n",
              "Mexican               38\n",
              "Moroccan              29\n",
              "Indian                28\n",
              "Healthy               26\n",
              "Greek                 21\n",
              "Brazilian             19\n",
              "Barbecue              19\n",
              "Steakhouse            16\n",
              "Lebanese              15\n",
              "African               13\n",
              "Brew Pub              12\n",
              "Persian                8\n",
              "Diner                  7\n",
              "Deli                   7\n",
              "Gastropub              7\n",
              "Middle Eastern         6\n",
              "Irish                  6\n",
              "Street Food            5\n",
              "Wine Bar               5\n",
              "Fusion                 5\n",
              "German                 4\n",
              "Polish                 4\n",
              "Beer restaurants       3\n",
              "Peruvian               2\n",
              "Tunisian               2\n",
              "Name: values, dtype: int64"
            ]
          },
          "execution_count": 61,
          "metadata": {},
          "output_type": "execute_result"
        }
      ],
      "source": [
        "df = pd.DataFrame(categories_decoded, columns=['values'])\n",
        "counts = df['values'].value_counts()\n",
        "\n",
        "counts"
      ]
    },
    {
      "cell_type": "code",
      "execution_count": null,
      "metadata": {
        "colab": {
          "base_uri": "https://localhost:8080/",
          "height": 315
        },
        "id": "fzBD9pvrNwMg",
        "outputId": "57c9d8fd-6762-419e-c7ef-2b056bcbaecc"
      },
      "outputs": [
        {
          "data": {
            "image/png": "[encoded data removed]",
            "text/plain": [
              "<Figure size 432x288 with 1 Axes>"
            ]
          },
          "metadata": {},
          "output_type": "display_data"
        },
        {
          "data": {
            "application/vnd.google.colaboratory.intrinsic+json": {
              "type": "string"
            },
            "text/plain": [
              "'Belgian'"
            ]
          },
          "execution_count": 62,
          "metadata": {},
          "output_type": "execute_result"
        }
      ],
      "source": [
        "plt.bar(counts.index, counts.values)\n",
        "plt.xlabel('Cuisines')\n",
        "plt.ylabel('Count')\n",
        "plt.title('Distribution of the cuisines')\n",
        "plt.show()\n",
        "\n",
        "counts.index[0]"
      ]
    },
    {
      "cell_type": "markdown",
      "metadata": {
        "id": "Jna8gGK3dXPe"
      },
      "source": []
    },
    {
      "cell_type": "markdown",
      "metadata": {
        "id": "aIuzJ3oFNubO"
      },
      "source": [
        "### Task 1.6.1 Fixing the unbalanced cuisines.\n",
        "---\n",
        "\n",
        "Option 1: data augmentation\n",
        "-> but we only need to do data augmentation for specific classes.\n",
        "\n",
        "\n",
        "Option 2: Oversampling: duplicate the data from the unbalanced part. </br>\n",
        "-> Would this result in a dataset accurately representing reality? </br>\n",
        "-> Rare cuisines with 1 image could get easily overfitted </br>\n",
        "\n",
        "\n",
        "Option 3: Remove the cuisines with 'Belgian' only when this is the only label given.\n",
        "\n",
        "\n",
        "option 4: Undersampling\n",
        "  - Here, we'll balance the class distribution of the cuisines by reducing the size of the over-represented class 'Belgian'.\n",
        "\n",
        "\n",
        "</br>\n",
        "=> In the beginning we went for the first option, because it also helps with the lack of data. But it uses to much RAM, so the notebook keeps crashing. Herefor we wrote our own data augmentation script, instead of the built-in libraries.\n",
        "</br>\n",
        "\n",
        "Later we combined the augmented data with option 4.\n",
        "Here we used **RandomUnderSampler** for undersampling the data."
      ]
    },
    {
      "cell_type": "markdown",
      "metadata": {
        "id": "-vqqPv3tf2Dg"
      },
      "source": [
        "#### Task 1.6.1.1 Data augmentation\n",
        "\n",
        "Every randomized attribute has a 50% chance of being used over the image.\n",
        "This makes it possible that some images are just duplicated, but that's fine.\n",
        "\n",
        "We'll ignore the images that are labed 'Belgian', because we have enough of those. We need more samples of the other cuisines.\n",
        "\n",
        "First we tried using the built-in library."
      ]
    },
    {
      "cell_type": "code",
      "execution_count": null,
      "metadata": {
        "colab": {
          "base_uri": "https://localhost:8080/"
        },
        "id": "WF1vf4dg7_fR",
        "outputId": "24abdcfd-e267-4173-aaee-be39de1d02e5"
      },
      "outputs": [
        {
          "data": {
            "text/plain": [
              "1.0"
            ]
          },
          "execution_count": 21,
          "metadata": {},
          "output_type": "execute_result"
        }
      ],
      "source": [
        "label_df[0][6] #Labeled as Belgian"
      ]
    },
    {
      "cell_type": "markdown",
      "metadata": {
        "id": "7hM3upUBjxvz"
      },
      "source": [
        "#### Task 1.6.1.2 Own version of data augmentation\n",
        "\n",
        "Google collab keeps crashing and can't handle the process for data augmentation. </br>\n",
        "\n",
        "As a result we aren't using the built-in data augmentation libraries, because these keep crashing and are asking for too much ram. We wrote our own version for data augmentation.\n",
        "\n",
        "```python\n",
        "  if random.randint(0,9) < 5:\n",
        "    flipped_img = cv2.flip(img, 1) #Flip it horizontal\n",
        "    images_df.append(flipped_img)\n",
        "    label_df.append(row.iloc[:49])\n",
        "```"
      ]
    },
    {
      "cell_type": "code",
      "execution_count": null,
      "metadata": {
        "id": "DKetsozzu0dW"
      },
      "outputs": [],
      "source": [
        "images_df = []\n",
        "label_df = []\n",
        "\n",
        "# Iterate over the rows of the dataframe\n",
        "for index, row in data_hot.iterrows():\n",
        "  # Make sure the 'path' column exists and is not empty\n",
        "  if 'path' in row and row['path']:\n",
        "    # Try to read the image and process it\n",
        "    try:\n",
        "      img = cv2.imread(row['path'])\n",
        "      gray_image = cv2.cvtColor(img, cv2.COLOR_BGR2GRAY)\n",
        "      if cv2.countNonZero(gray_image) != 0 and cv2.countNonZero(gray_image) != gray_image.size:\n",
        "        # Remove all one color images\n",
        "        img = cv2.resize(img, (224, 224))\n",
        "        if img.shape[2] == 1:\n",
        "          img = np.dstack([img, img, img])\n",
        "        img = cv2.cvtColor(img, cv2.COLOR_BGR2RGB)\n",
        "        img = img.astype(np.float32)/255.0\n",
        "\n",
        "        if row[6] != 1.0: #Filter belgian\n",
        "            if random.randint(0,9) < 5:\n",
        "              flipped_img = cv2.flip(img, 1) #Flip it horizontal\n",
        "              images_df.append(flipped_img)\n",
        "              label_df.append(row.iloc[:49])\n",
        "\n",
        "        images_df.append(img)\n",
        "        label_df.append(row.iloc[:49])\n",
        "    except Exception as e:\n",
        "      # Print the error message if there is an error reading the image\n",
        "      print(f\"Error reading image at index {index}: {e}\")\n",
        "  else:\n",
        "    # Print a message if the 'path' column is missing or empty\n",
        "    print(f\"Missing or empty 'path' column at index {index}\")"
      ]
    },
    {
      "cell_type": "markdown",
      "metadata": {
        "id": "-BdJcfYAQ-qS"
      },
      "source": [
        "Removing duplicate images"
      ]
    },
    {
      "cell_type": "code",
      "execution_count": null,
      "metadata": {
        "id": "FYoc8XU7-qUc"
      },
      "outputs": [],
      "source": [
        "# Remove duplicate images from the dataframe\n",
        "df = pd.DataFrame()\n",
        "df['image'] = images_df\n",
        "df['label'] = label_df\n",
        "\n",
        "# Create a function to check if an image is a duplicate\n",
        "def is_duplicate(row):\n",
        "    image = row['image']\n",
        "    # Check if the image is a duplicate\n",
        "    return any(np.all(image == x) for x in df['image'].values[:row.name])\n",
        "\n",
        "# Use the apply method to apply the function to each row of the dataframe\n",
        "df['duplicate'] = df.apply(is_duplicate, axis=1)\n",
        "\n",
        "# Remove duplicate images from the dataframe\n",
        "df = df.drop(df[df['duplicate'] == True].index)\n",
        "\n",
        "images_df = df['image'].values.tolist()\n",
        "label_df = pd.DataFrame(df['label'].to_list())"
      ]
    },
    {
      "cell_type": "markdown",
      "metadata": {
        "id": "w_aCJ5j53-qk"
      },
      "source": [
        "#### Task 1.6.1.3 Check new distribution\n",
        "\n",
        "The dataset is still unbalanced, we can fix this by applying some undersampling on rows labeled as 'Belgian'.\n",
        "\n",
        "(–) The new dataset should be a good representive of the original dataset.</br> We need to be keep this in mind when we are training the model with this dataset. </br>\n",
        "(–) First we do some augmentation for adding more samples and now we are reducing the amount of samples. </br> That's not ideal, but because the rows aren't related to each other, it shouldn't harm the data that much."
      ]
    },
    {
      "cell_type": "code",
      "execution_count": null,
      "metadata": {
        "id": "_vyUybkcxoyX"
      },
      "outputs": [],
      "source": [
        "categories_decoded = enc.inverse_transform(label_df)\n",
        "#categories_decoded\n",
        "\n",
        "df = pd.DataFrame(categories_decoded, columns=['values'])\n",
        "counts = df['values'].value_counts()"
      ]
    },
    {
      "cell_type": "code",
      "execution_count": null,
      "metadata": {
        "colab": {
          "base_uri": "https://localhost:8080/",
          "height": 315
        },
        "id": "YJycjROzxrMg",
        "outputId": "106a603a-ee96-45c5-c14a-746619861872"
      },
      "outputs": [
        {
          "data": {
            "image/png": "[encoded data removed]",
            "text/plain": [
              "<Figure size 432x288 with 1 Axes>"
            ]
          },
          "metadata": {},
          "output_type": "display_data"
        },
        {
          "data": {
            "application/vnd.google.colaboratory.intrinsic+json": {
              "type": "string"
            },
            "text/plain": [
              "'Belgian'"
            ]
          },
          "execution_count": 8,
          "metadata": {},
          "output_type": "execute_result"
        }
      ],
      "source": [
        "plt.bar(counts.index, counts.values)\n",
        "plt.xlabel('Cuisines')\n",
        "plt.ylabel('Count')\n",
        "plt.title('Distribution of the cuisines')\n",
        "plt.show()\n",
        "\n",
        "counts.index[0]"
      ]
    },
    {
      "cell_type": "markdown",
      "metadata": {
        "id": "UzAdFDVAEB23"
      },
      "source": [
        "#### Task 1.6.1.4 Undersampling the data.\n",
        "\n",
        "The data is still unbalanced, we are going to undersample the label 'Belgian'. </br> For this, we'll use RandomUnderSampler. </br>\n",
        "\n",
        "RandomUnderSampler is easy to implement and is straightforward.\n",
        "\n",
        "It randomly selects a subset of the majority class samples to remove from the dataset, until the class balance is restored."
      ]
    },
    {
      "cell_type": "code",
      "execution_count": null,
      "metadata": {
        "colab": {
          "base_uri": "https://localhost:8080/"
        },
        "id": "gaCfXVjxDgA4",
        "outputId": "0a0c1018-15aa-45da-ac42-84c508e28e61"
      },
      "outputs": [
        {
          "name": "stderr",
          "output_type": "stream",
          "text": [
            "<ipython-input-7-cbbc50c6bc98>:4: DeprecationWarning: `np.int` is a deprecated alias for the builtin `int`. To silence this warning, use `int` by itself. Doing this will not modify any behavior and is safe. When replacing `np.int`, you may wish to use e.g. `np.int64` or `np.int32` to specify the precision. If you wish to review your current use, check the release note link for additional information.\n",
            "Deprecated in NumPy 1.20; for more details and guidance: https://numpy.org/devdocs/release/1.20.0-notes.html#deprecations\n",
            "  features = np.array(images_df, dtype=np.int)\n",
            "<ipython-input-7-cbbc50c6bc98>:7: DeprecationWarning: `np.float` is a deprecated alias for the builtin `float`. To silence this warning, use `float` by itself. Doing this will not modify any behavior and is safe. If you specifically wanted the numpy scalar type, use `np.float64` here.\n",
            "Deprecated in NumPy 1.20; for more details and guidance: https://numpy.org/devdocs/release/1.20.0-notes.html#deprecations\n",
            "  labels = np.array(label_df, dtype=np.float)\n"
          ]
        }
      ],
      "source": [
        "from imblearn.under_sampling import RandomUnderSampler\n",
        "\n",
        "# Flatten the images into a single feature vector\n",
        "features = np.array(images_df, dtype=np.int)\n",
        "features = features.reshape(features.shape[0], -1)\n",
        "\n",
        "labels = np.array(label_df, dtype=np.float)\n",
        "\n",
        "# Create a RandomUnderSampler object\n",
        "rus = RandomUnderSampler()\n",
        "\n",
        "# Use the fit_resample method to undersample the dataset\n",
        "X_resampled, y_resampled = rus.fit_resample(features, labels)"
      ]
    },
    {
      "cell_type": "code",
      "execution_count": null,
      "metadata": {
        "id": "EPvp0X63pJHQ"
      },
      "outputs": [],
      "source": [
        "X_resampled = X_resampled.reshape(X_resampled.shape[0], 224, 224, 3)\n",
        "y_resampled = pd.DataFrame(y_resampled)\n",
        "y_resampled[48] = 0"
      ]
    },
    {
      "cell_type": "code",
      "execution_count": null,
      "metadata": {
        "colab": {
          "base_uri": "https://localhost:8080/"
        },
        "id": "WcnQEXE18Ame",
        "outputId": "548e80cd-488d-423d-86a8-8c757941f884"
      },
      "outputs": [
        {
          "name": "stdout",
          "output_type": "stream",
          "text": [
            "Shape labels: \n"
          ]
        },
        {
          "data": {
            "text/plain": [
              "(48, 224, 224, 3)"
            ]
          },
          "execution_count": 43,
          "metadata": {},
          "output_type": "execute_result"
        }
      ],
      "source": [
        "print(\"Shape images: \")\n",
        "X_resampled.shape"
      ]
    },
    {
      "cell_type": "code",
      "execution_count": null,
      "metadata": {
        "colab": {
          "base_uri": "https://localhost:8080/"
        },
        "id": "cOXjXXen8QBt",
        "outputId": "339e35a7-e481-43ed-b85d-9e1b708793bc"
      },
      "outputs": [
        {
          "name": "stdout",
          "output_type": "stream",
          "text": [
            "Shape images: \n"
          ]
        },
        {
          "data": {
            "text/plain": [
              "(48, 49)"
            ]
          },
          "execution_count": 44,
          "metadata": {},
          "output_type": "execute_result"
        }
      ],
      "source": [
        "print(\"Shape labels: \")\n",
        "y_resampled.shape"
      ]
    },
    {
      "cell_type": "markdown",
      "metadata": {
        "id": "bzNvtagansvN"
      },
      "source": [
        "#### Disappointed\n",
        "\n",
        "The undersampling is too extreme. We have a condensation that's too big. As a result, the training dataset might be too small to train the model."
      ]
    },
    {
      "cell_type": "markdown",
      "metadata": {
        "id": "U2fOKIRQ79My"
      },
      "source": [
        "#### Task 1.6.1.5 Check new distribution"
      ]
    },
    {
      "cell_type": "code",
      "execution_count": null,
      "metadata": {
        "colab": {
          "base_uri": "https://localhost:8080/",
          "height": 315
        },
        "id": "Bus9xE-5oryg",
        "outputId": "e96cbfda-6811-4c61-e8df-374592ba0c20"
      },
      "outputs": [
        {
          "data": {
            "image/png": "[encoded data removed]",
            "text/plain": [
              "<Figure size 432x288 with 1 Axes>"
            ]
          },
          "metadata": {},
          "output_type": "display_data"
        },
        {
          "data": {
            "application/vnd.google.colaboratory.intrinsic+json": {
              "type": "string"
            },
            "text/plain": [
              "'African'"
            ]
          },
          "execution_count": 23,
          "metadata": {},
          "output_type": "execute_result"
        }
      ],
      "source": [
        "categories_decoded = enc.inverse_transform(y_resampled)\n",
        "#categories_decoded\n",
        "\n",
        "df = pd.DataFrame(categories_decoded, columns=['values'])\n",
        "counts = df['values'].value_counts()\n",
        "\n",
        "plt.bar(counts.index, counts.values)\n",
        "plt.xlabel('Cuisines')\n",
        "plt.ylabel('Count')\n",
        "plt.title('Distribution of the cuisines')\n",
        "plt.show()\n",
        "\n",
        "counts.index[0]"
      ]
    },
    {
      "cell_type": "markdown",
      "metadata": {
        "id": "J8dtGXVu7Ihe"
      },
      "source": [
        "##### Task 1.6.1.6 Check amount of datapoints\n",
        "\n",
        "The distribution of the different cuisines is now balanced. But the amount of datapoints is very low and not useful for training the model. </br>\n",
        "\n",
        "Taking the previous into consideration, we decided to not fit this data in the model. We'll only test the augmentated data."
      ]
    },
    {
      "cell_type": "markdown",
      "metadata": {
        "id": "EgqcKb4fhpH2"
      },
      "source": [
        "### Task 1.6.2 Fitting network with augmentated data\n",
        "\n",
        "We'll use the last model and fit it again.\n",
        "\n",
        "The batch_size will be smaller, because the amount of data is way smaller."
      ]
    },
    {
      "cell_type": "code",
      "execution_count": null,
      "metadata": {
        "id": "IXk-vTFZiOou"
      },
      "outputs": [],
      "source": [
        "X_train, X_test, y_train, y_test = train_test_split(images_df, label_df, test_size=0.1) # 90% training and 10% test"
      ]
    },
    {
      "cell_type": "code",
      "execution_count": null,
      "metadata": {
        "colab": {
          "base_uri": "https://localhost:8080/"
        },
        "id": "smuGEfOiiDO4",
        "outputId": "4b9d86e4-4b4b-43dd-8406-09e1bafc042e"
      },
      "outputs": [
        {
          "name": "stderr",
          "output_type": "stream",
          "text": [
            "<ipython-input-13-8e2f9d4d4b7e>:5: DeprecationWarning: `np.float` is a deprecated alias for the builtin `float`. To silence this warning, use `float` by itself. Doing this will not modify any behavior and is safe. If you specifically wanted the numpy scalar type, use `np.float64` here.\n",
            "Deprecated in NumPy 1.20; for more details and guidance: https://numpy.org/devdocs/release/1.20.0-notes.html#deprecations\n",
            "  y=np.array(y_train, dtype=np.float),\n"
          ]
        },
        {
          "name": "stdout",
          "output_type": "stream",
          "text": [
            "Epoch 1/10\n",
            "121/121 [==============================] - 16s 56ms/step - loss: 3.1959 - accuracy: 0.2913\n",
            "Epoch 2/10\n",
            "121/121 [==============================] - 7s 54ms/step - loss: 6.7583 - accuracy: 0.1914\n",
            "Epoch 3/10\n",
            "121/121 [==============================] - 6s 54ms/step - loss: 446.6925 - accuracy: 0.1632\n",
            "Epoch 4/10\n",
            "121/121 [==============================] - 7s 54ms/step - loss: 8.1652 - accuracy: 0.1743\n",
            "Epoch 5/10\n",
            "121/121 [==============================] - 7s 54ms/step - loss: 7.6021 - accuracy: 0.2381\n",
            "Epoch 6/10\n",
            "121/121 [==============================] - 7s 57ms/step - loss: 9.0674 - accuracy: 0.2135\n",
            "Epoch 7/10\n",
            "121/121 [==============================] - 6s 54ms/step - loss: 9.3937 - accuracy: 0.2288\n",
            "Epoch 8/10\n",
            "121/121 [==============================] - 7s 54ms/step - loss: 7.5302 - accuracy: 0.2067\n",
            "Epoch 9/10\n",
            "121/121 [==============================] - 6s 54ms/step - loss: 8.0634 - accuracy: 0.1831\n",
            "Epoch 10/10\n",
            "121/121 [==============================] - 6s 53ms/step - loss: 9.3148 - accuracy: 0.2495\n"
          ]
        },
        {
          "data": {
            "text/plain": [
              "<keras.callbacks.History at 0x7f6c7596acd0>"
            ]
          },
          "execution_count": 13,
          "metadata": {},
          "output_type": "execute_result"
        }
      ],
      "source": [
        "batch_size = 32 #Number of samples before updating the network\n",
        "nb_epochs = 10 #Epoch = aantal keer dat het algoritme over de training dataset gaat.\n",
        "\n",
        "model.fit(x=np.array(X_train),\n",
        "          y=np.array(y_train, dtype=np.float),\n",
        "          batch_size=batch_size,\n",
        "          epochs=nb_epochs)"
      ]
    },
    {
      "cell_type": "code",
      "execution_count": null,
      "metadata": {
        "colab": {
          "base_uri": "https://localhost:8080/"
        },
        "id": "yAtxqSU_jQx-",
        "outputId": "866f5c75-9524-4ef7-c3be-aca3fa5eb2d0"
      },
      "outputs": [
        {
          "name": "stderr",
          "output_type": "stream",
          "text": [
            "<ipython-input-14-792df1b3fd92>:1: DeprecationWarning: `np.float` is a deprecated alias for the builtin `float`. To silence this warning, use `float` by itself. Doing this will not modify any behavior and is safe. If you specifically wanted the numpy scalar type, use `np.float64` here.\n",
            "Deprecated in NumPy 1.20; for more details and guidance: https://numpy.org/devdocs/release/1.20.0-notes.html#deprecations\n",
            "  loss, acc = model.evaluate(np.array(X_test), np.array(y_test, dtype=np.float), batch_size=batch_size)\n"
          ]
        },
        {
          "name": "stdout",
          "output_type": "stream",
          "text": [
            "14/14 [==============================] - 1s 37ms/step - loss: 9.2154 - accuracy: 0.1072\n",
            "Loss: 9.215397834777832 accuracy:  0.10722610354423523\n"
          ]
        }
      ],
      "source": [
        "loss, acc = model.evaluate(np.array(X_test), np.array(y_test, dtype=np.float), batch_size=batch_size)\n",
        "print('Loss:', loss, 'accuracy: ', acc)"
      ]
    },
    {
      "cell_type": "markdown",
      "metadata": {
        "id": "zg3i3Lyi861A"
      },
      "source": [
        "### Task 1.6.3 Evaluate model with augmentated data\n",
        "\n",
        "There isn't a big improvement in the performance of the model. The influence of the distribution didn't have a big impact on the performance. </br> The data itself may be not useful for the given task.\n",
        "\n",
        "- Other reasons for the even worse results is the used data-augmentation. We could have choose a data augmentation technique that suided better for our data.\n",
        "\n",
        "- Because we used data-augemntation on the underbalanced data, the model could have learned incorrect patterns.\n",
        "\n",
        "We could work with a different approach to the dataset. By not taking the first cuisines for each image, but a random cuisine that was assigned to the image. </br> Here, the performance of the model would depend on the training dataset.\n",
        "If you want to compare different models, the dataset will also be different.\n",
        "\n",
        "-> Another possibility would be to readjust the neural network, because of the deadlines we didn't go that road."
      ]
    },
    {
      "cell_type": "markdown",
      "metadata": {
        "id": "w9cUjrKXYppv"
      },
      "source": [
        "## Task 1.7 Try the model with a different optimizer\n",
        "\n",
        "This will be trained with the original dataset. (Not the augmentated dataset)"
      ]
    },
    {
      "cell_type": "code",
      "execution_count": null,
      "metadata": {
        "colab": {
          "base_uri": "https://localhost:8080/"
        },
        "id": "IcD6vBhurYEV",
        "outputId": "ea835228-b45b-45be-ac7c-18618a0a8380"
      },
      "outputs": [
        {
          "name": "stderr",
          "output_type": "stream",
          "text": [
            "<ipython-input-11-5f9eda4e90b1>:8: DeprecationWarning: `np.float` is a deprecated alias for the builtin `float`. To silence this warning, use `float` by itself. Doing this will not modify any behavior and is safe. If you specifically wanted the numpy scalar type, use `np.float64` here.\n",
            "Deprecated in NumPy 1.20; for more details and guidance: https://numpy.org/devdocs/release/1.20.0-notes.html#deprecations\n",
            "  y=np.array(y_train, dtype=np.float),\n"
          ]
        },
        {
          "name": "stdout",
          "output_type": "stream",
          "text": [
            "Epoch 1/10\n",
            "95/95 [==============================] - 257s 3s/step - loss: 3.0708 - accuracy: 0.4413\n",
            "Epoch 2/10\n",
            "95/95 [==============================] - 250s 3s/step - loss: 2.4788 - accuracy: 0.4449\n",
            "Epoch 3/10\n",
            "95/95 [==============================] - 250s 3s/step - loss: 2.4399 - accuracy: 0.4449\n",
            "Epoch 4/10\n",
            "95/95 [==============================] - 259s 3s/step - loss: 2.4157 - accuracy: 0.4443\n",
            "Epoch 5/10\n",
            "95/95 [==============================] - 254s 3s/step - loss: 2.3769 - accuracy: 0.4443\n",
            "Epoch 6/10\n",
            "95/95 [==============================] - 250s 3s/step - loss: 2.2907 - accuracy: 0.4515\n",
            "Epoch 7/10\n",
            "95/95 [==============================] - 251s 3s/step - loss: 2.1383 - accuracy: 0.4634\n",
            "Epoch 8/10\n",
            "95/95 [==============================] - 251s 3s/step - loss: 1.9263 - accuracy: 0.4944\n",
            "Epoch 9/10\n",
            "95/95 [==============================] - 250s 3s/step - loss: 1.7147 - accuracy: 0.5317\n",
            "Epoch 10/10\n",
            "95/95 [==============================] - 251s 3s/step - loss: 1.4434 - accuracy: 0.5894\n"
          ]
        },
        {
          "data": {
            "text/plain": [
              "<keras.callbacks.History at 0x7f46e99d3d00>"
            ]
          },
          "execution_count": 11,
          "metadata": {},
          "output_type": "execute_result"
        }
      ],
      "source": [
        "# compile model\n",
        "model.compile(loss='categorical_crossentropy', optimizer='rmsprop', metrics=['accuracy'])\n",
        "\n",
        "batch_size = 32 #In hoeveel gaan we de data splitten.\n",
        "nb_epochs = 10 #Epoch = aantal keer dat het algoritme over de training dataset gaat, voor dat de parameters aan gepast worden.\n",
        "\n",
        "model.fit(x=np.array(X_train),\n",
        "          y=np.array(y_train, dtype=np.float),\n",
        "          batch_size=batch_size,\n",
        "          epochs=nb_epochs)"
      ]
    },
    {
      "cell_type": "code",
      "execution_count": null,
      "metadata": {
        "colab": {
          "base_uri": "https://localhost:8080/"
        },
        "id": "OKVAHNu7ZEMg",
        "outputId": "30a45d39-301e-4c9b-aac0-53a9afe407d2"
      },
      "outputs": [
        {
          "name": "stderr",
          "output_type": "stream",
          "text": [
            "<ipython-input-12-98045edec227>:1: DeprecationWarning: `np.float` is a deprecated alias for the builtin `float`. To silence this warning, use `float` by itself. Doing this will not modify any behavior and is safe. If you specifically wanted the numpy scalar type, use `np.float64` here.\n",
            "Deprecated in NumPy 1.20; for more details and guidance: https://numpy.org/devdocs/release/1.20.0-notes.html#deprecations\n",
            "  loss, acc = model.evaluate(np.array(X_test), np.array(y_test, dtype=np.float), batch_size=4)\n"
          ]
        },
        {
          "name": "stdout",
          "output_type": "stream",
          "text": [
            "85/85 [==============================] - 8s 93ms/step - loss: 2.9825 - accuracy: 0.3086\n",
            "Loss: 2.982518196105957 accuracy:  0.3086053431034088\n"
          ]
        }
      ],
      "source": [
        "loss, acc = model.evaluate(np.array(X_test), np.array(y_test, dtype=np.float), batch_size=4)\n",
        "print('Loss:', loss, 'accuracy: ', acc)"
      ]
    },
    {
      "cell_type": "markdown",
      "metadata": {
        "id": "QrJ9vyyEjPav"
      },
      "source": [
        "The trainingsdata scores better, I think with a bigger amount of trainingsdata, this model would score and train better, without the use of data-augmentation.\n",
        "\n",
        "But the distribution of the data still has a big impact on the performance of the model.\n",
        "\n",
        "Tweaking the model more and trying different loss functions and optimizers would be an improvement for the model. </br> Nevertheless, this takes a lot of time, for getting these parameters right."
      ]
    },
    {
      "cell_type": "markdown",
      "metadata": {
        "id": "GcWBA3VqfK2-"
      },
      "source": [
        "## Task 1.8 Multi-lable classification for cuisines\n",
        "\n",
        "For the multi-label classification, we use the same dataset, but with a different preprocessing. We don't use the first cuisine, but we include all the cuisines related to the restaurant. </br>\n",
        "\n",
        "For every image, we add a new row for each cuisine.\n",
        "\n",
        "```python\n",
        "afbeeldingen_Option3_df = afbeeldingen_Option3_df.explode('cuisines').reset_index(drop=True)\n",
        "```\n",
        "\n",
        "Later we use one-hot encoding over the cuisines.</br>\n",
        "Thanks to one-hot encoding, we can combine the different cuisines by grouping by image."
      ]
    },
    {
      "cell_type": "code",
      "execution_count": null,
      "metadata": {
        "colab": {
          "base_uri": "https://localhost:8080/",
          "height": 424
        },
        "id": "a25imntVfQWL",
        "outputId": "33a11c3b-1113-4641-fcd5-7cf214334f2e"
      },
      "outputs": [
        {
          "output_type": "execute_result",
          "data": {
            "text/plain": [
              "                                                   path    0    1    2    3  \\\n",
              "0     /content/drive/MyDrive/MachineLearning/images/...  0.0  0.0  0.0  0.0   \n",
              "1     /content/drive/MyDrive/MachineLearning/images/...  0.0  0.0  0.0  0.0   \n",
              "2     /content/drive/MyDrive/MachineLearning/images/...  0.0  0.0  0.0  0.0   \n",
              "3     /content/drive/MyDrive/MachineLearning/images/...  0.0  0.0  0.0  0.0   \n",
              "4     /content/drive/MyDrive/MachineLearning/images/...  0.0  0.0  0.0  0.0   \n",
              "...                                                 ...  ...  ...  ...  ...   \n",
              "5549  /content/drive/MyDrive/MachineLearning/images/...  0.0  0.0  0.0  0.0   \n",
              "5550  /content/drive/MyDrive/MachineLearning/images/...  0.0  0.0  0.0  0.0   \n",
              "5551  /content/drive/MyDrive/MachineLearning/images/...  0.0  0.0  0.0  0.0   \n",
              "5552  /content/drive/MyDrive/MachineLearning/images/...  0.0  0.0  0.0  0.0   \n",
              "5553  /content/drive/MyDrive/MachineLearning/images/...  0.0  0.0  0.0  0.0   \n",
              "\n",
              "        4    5    6    7    8  ...  110  111  112  113  114  115  116  117  \\\n",
              "0     0.0  0.0  0.0  0.0  0.0  ...  0.0  0.0  0.0  0.0  0.0  0.0  0.0  1.0   \n",
              "1     0.0  0.0  0.0  0.0  0.0  ...  0.0  0.0  0.0  0.0  0.0  0.0  0.0  1.0   \n",
              "2     0.0  0.0  0.0  0.0  0.0  ...  0.0  0.0  0.0  0.0  0.0  0.0  0.0  1.0   \n",
              "3     0.0  0.0  0.0  0.0  0.0  ...  0.0  0.0  0.0  0.0  0.0  0.0  0.0  1.0   \n",
              "4     0.0  0.0  0.0  0.0  0.0  ...  0.0  0.0  0.0  0.0  0.0  0.0  0.0  1.0   \n",
              "...   ...  ...  ...  ...  ...  ...  ...  ...  ...  ...  ...  ...  ...  ...   \n",
              "5549  0.0  0.0  0.0  0.0  0.0  ...  0.0  1.0  0.0  0.0  0.0  0.0  0.0  0.0   \n",
              "5550  0.0  0.0  0.0  0.0  0.0  ...  0.0  1.0  0.0  0.0  0.0  0.0  0.0  0.0   \n",
              "5551  0.0  0.0  0.0  0.0  0.0  ...  0.0  1.0  0.0  0.0  0.0  0.0  0.0  0.0   \n",
              "5552  0.0  0.0  0.0  0.0  0.0  ...  0.0  0.0  0.0  0.0  0.0  0.0  0.0  0.0   \n",
              "5553  0.0  0.0  0.0  0.0  0.0  ...  0.0  0.0  0.0  0.0  0.0  0.0  0.0  0.0   \n",
              "\n",
              "      118  119  \n",
              "0     0.0  0.0  \n",
              "1     0.0  0.0  \n",
              "2     0.0  0.0  \n",
              "3     0.0  0.0  \n",
              "4     0.0  0.0  \n",
              "...   ...  ...  \n",
              "5549  0.0  0.0  \n",
              "5550  0.0  0.0  \n",
              "5551  0.0  0.0  \n",
              "5552  0.0  0.0  \n",
              "5553  0.0  0.0  \n",
              "\n",
              "[5554 rows x 121 columns]"
            ],
            "text/html": [
              "\n",
              "  <div id=\"df-7fc01cfa-c3d3-49af-b266-8e2f7b6dba2c\">\n",
              "    <div class=\"colab-df-container\">\n",
              "      <div>\n",
              "<style scoped>\n",
              "    .dataframe tbody tr th:only-of-type {\n",
              "        vertical-align: middle;\n",
              "    }\n",
              "\n",
              "    .dataframe tbody tr th {\n",
              "        vertical-align: top;\n",
              "    }\n",
              "\n",
              "    .dataframe thead th {\n",
              "        text-align: right;\n",
              "    }\n",
              "</style>\n",
              "<table border=\"1\" class=\"dataframe\">\n",
              "  <thead>\n",
              "    <tr style=\"text-align: right;\">\n",
              "      <th></th>\n",
              "      <th>path</th>\n",
              "      <th>0</th>\n",
              "      <th>1</th>\n",
              "      <th>2</th>\n",
              "      <th>3</th>\n",
              "      <th>4</th>\n",
              "      <th>5</th>\n",
              "      <th>6</th>\n",
              "      <th>7</th>\n",
              "      <th>8</th>\n",
              "      <th>...</th>\n",
              "      <th>110</th>\n",
              "      <th>111</th>\n",
              "      <th>112</th>\n",
              "      <th>113</th>\n",
              "      <th>114</th>\n",
              "      <th>115</th>\n",
              "      <th>116</th>\n",
              "      <th>117</th>\n",
              "      <th>118</th>\n",
              "      <th>119</th>\n",
              "    </tr>\n",
              "  </thead>\n",
              "  <tbody>\n",
              "    <tr>\n",
              "      <th>0</th>\n",
              "      <td>/content/drive/MyDrive/MachineLearning/images/...</td>\n",
              "      <td>0.0</td>\n",
              "      <td>0.0</td>\n",
              "      <td>0.0</td>\n",
              "      <td>0.0</td>\n",
              "      <td>0.0</td>\n",
              "      <td>0.0</td>\n",
              "      <td>0.0</td>\n",
              "      <td>0.0</td>\n",
              "      <td>0.0</td>\n",
              "      <td>...</td>\n",
              "      <td>0.0</td>\n",
              "      <td>0.0</td>\n",
              "      <td>0.0</td>\n",
              "      <td>0.0</td>\n",
              "      <td>0.0</td>\n",
              "      <td>0.0</td>\n",
              "      <td>0.0</td>\n",
              "      <td>1.0</td>\n",
              "      <td>0.0</td>\n",
              "      <td>0.0</td>\n",
              "    </tr>\n",
              "    <tr>\n",
              "      <th>1</th>\n",
              "      <td>/content/drive/MyDrive/MachineLearning/images/...</td>\n",
              "      <td>0.0</td>\n",
              "      <td>0.0</td>\n",
              "      <td>0.0</td>\n",
              "      <td>0.0</td>\n",
              "      <td>0.0</td>\n",
              "      <td>0.0</td>\n",
              "      <td>0.0</td>\n",
              "      <td>0.0</td>\n",
              "      <td>0.0</td>\n",
              "      <td>...</td>\n",
              "      <td>0.0</td>\n",
              "      <td>0.0</td>\n",
              "      <td>0.0</td>\n",
              "      <td>0.0</td>\n",
              "      <td>0.0</td>\n",
              "      <td>0.0</td>\n",
              "      <td>0.0</td>\n",
              "      <td>1.0</td>\n",
              "      <td>0.0</td>\n",
              "      <td>0.0</td>\n",
              "    </tr>\n",
              "    <tr>\n",
              "      <th>2</th>\n",
              "      <td>/content/drive/MyDrive/MachineLearning/images/...</td>\n",
              "      <td>0.0</td>\n",
              "      <td>0.0</td>\n",
              "      <td>0.0</td>\n",
              "      <td>0.0</td>\n",
              "      <td>0.0</td>\n",
              "      <td>0.0</td>\n",
              "      <td>0.0</td>\n",
              "      <td>0.0</td>\n",
              "      <td>0.0</td>\n",
              "      <td>...</td>\n",
              "      <td>0.0</td>\n",
              "      <td>0.0</td>\n",
              "      <td>0.0</td>\n",
              "      <td>0.0</td>\n",
              "      <td>0.0</td>\n",
              "      <td>0.0</td>\n",
              "      <td>0.0</td>\n",
              "      <td>1.0</td>\n",
              "      <td>0.0</td>\n",
              "      <td>0.0</td>\n",
              "    </tr>\n",
              "    <tr>\n",
              "      <th>3</th>\n",
              "      <td>/content/drive/MyDrive/MachineLearning/images/...</td>\n",
              "      <td>0.0</td>\n",
              "      <td>0.0</td>\n",
              "      <td>0.0</td>\n",
              "      <td>0.0</td>\n",
              "      <td>0.0</td>\n",
              "      <td>0.0</td>\n",
              "      <td>0.0</td>\n",
              "      <td>0.0</td>\n",
              "      <td>0.0</td>\n",
              "      <td>...</td>\n",
              "      <td>0.0</td>\n",
              "      <td>0.0</td>\n",
              "      <td>0.0</td>\n",
              "      <td>0.0</td>\n",
              "      <td>0.0</td>\n",
              "      <td>0.0</td>\n",
              "      <td>0.0</td>\n",
              "      <td>1.0</td>\n",
              "      <td>0.0</td>\n",
              "      <td>0.0</td>\n",
              "    </tr>\n",
              "    <tr>\n",
              "      <th>4</th>\n",
              "      <td>/content/drive/MyDrive/MachineLearning/images/...</td>\n",
              "      <td>0.0</td>\n",
              "      <td>0.0</td>\n",
              "      <td>0.0</td>\n",
              "      <td>0.0</td>\n",
              "      <td>0.0</td>\n",
              "      <td>0.0</td>\n",
              "      <td>0.0</td>\n",
              "      <td>0.0</td>\n",
              "      <td>0.0</td>\n",
              "      <td>...</td>\n",
              "      <td>0.0</td>\n",
              "      <td>0.0</td>\n",
              "      <td>0.0</td>\n",
              "      <td>0.0</td>\n",
              "      <td>0.0</td>\n",
              "      <td>0.0</td>\n",
              "      <td>0.0</td>\n",
              "      <td>1.0</td>\n",
              "      <td>0.0</td>\n",
              "      <td>0.0</td>\n",
              "    </tr>\n",
              "    <tr>\n",
              "      <th>...</th>\n",
              "      <td>...</td>\n",
              "      <td>...</td>\n",
              "      <td>...</td>\n",
              "      <td>...</td>\n",
              "      <td>...</td>\n",
              "      <td>...</td>\n",
              "      <td>...</td>\n",
              "      <td>...</td>\n",
              "      <td>...</td>\n",
              "      <td>...</td>\n",
              "      <td>...</td>\n",
              "      <td>...</td>\n",
              "      <td>...</td>\n",
              "      <td>...</td>\n",
              "      <td>...</td>\n",
              "      <td>...</td>\n",
              "      <td>...</td>\n",
              "      <td>...</td>\n",
              "      <td>...</td>\n",
              "      <td>...</td>\n",
              "      <td>...</td>\n",
              "    </tr>\n",
              "    <tr>\n",
              "      <th>5549</th>\n",
              "      <td>/content/drive/MyDrive/MachineLearning/images/...</td>\n",
              "      <td>0.0</td>\n",
              "      <td>0.0</td>\n",
              "      <td>0.0</td>\n",
              "      <td>0.0</td>\n",
              "      <td>0.0</td>\n",
              "      <td>0.0</td>\n",
              "      <td>0.0</td>\n",
              "      <td>0.0</td>\n",
              "      <td>0.0</td>\n",
              "      <td>...</td>\n",
              "      <td>0.0</td>\n",
              "      <td>1.0</td>\n",
              "      <td>0.0</td>\n",
              "      <td>0.0</td>\n",
              "      <td>0.0</td>\n",
              "      <td>0.0</td>\n",
              "      <td>0.0</td>\n",
              "      <td>0.0</td>\n",
              "      <td>0.0</td>\n",
              "      <td>0.0</td>\n",
              "    </tr>\n",
              "    <tr>\n",
              "      <th>5550</th>\n",
              "      <td>/content/drive/MyDrive/MachineLearning/images/...</td>\n",
              "      <td>0.0</td>\n",
              "      <td>0.0</td>\n",
              "      <td>0.0</td>\n",
              "      <td>0.0</td>\n",
              "      <td>0.0</td>\n",
              "      <td>0.0</td>\n",
              "      <td>0.0</td>\n",
              "      <td>0.0</td>\n",
              "      <td>0.0</td>\n",
              "      <td>...</td>\n",
              "      <td>0.0</td>\n",
              "      <td>1.0</td>\n",
              "      <td>0.0</td>\n",
              "      <td>0.0</td>\n",
              "      <td>0.0</td>\n",
              "      <td>0.0</td>\n",
              "      <td>0.0</td>\n",
              "      <td>0.0</td>\n",
              "      <td>0.0</td>\n",
              "      <td>0.0</td>\n",
              "    </tr>\n",
              "    <tr>\n",
              "      <th>5551</th>\n",
              "      <td>/content/drive/MyDrive/MachineLearning/images/...</td>\n",
              "      <td>0.0</td>\n",
              "      <td>0.0</td>\n",
              "      <td>0.0</td>\n",
              "      <td>0.0</td>\n",
              "      <td>0.0</td>\n",
              "      <td>0.0</td>\n",
              "      <td>0.0</td>\n",
              "      <td>0.0</td>\n",
              "      <td>0.0</td>\n",
              "      <td>...</td>\n",
              "      <td>0.0</td>\n",
              "      <td>1.0</td>\n",
              "      <td>0.0</td>\n",
              "      <td>0.0</td>\n",
              "      <td>0.0</td>\n",
              "      <td>0.0</td>\n",
              "      <td>0.0</td>\n",
              "      <td>0.0</td>\n",
              "      <td>0.0</td>\n",
              "      <td>0.0</td>\n",
              "    </tr>\n",
              "    <tr>\n",
              "      <th>5552</th>\n",
              "      <td>/content/drive/MyDrive/MachineLearning/images/...</td>\n",
              "      <td>0.0</td>\n",
              "      <td>0.0</td>\n",
              "      <td>0.0</td>\n",
              "      <td>0.0</td>\n",
              "      <td>0.0</td>\n",
              "      <td>0.0</td>\n",
              "      <td>0.0</td>\n",
              "      <td>0.0</td>\n",
              "      <td>0.0</td>\n",
              "      <td>...</td>\n",
              "      <td>0.0</td>\n",
              "      <td>0.0</td>\n",
              "      <td>0.0</td>\n",
              "      <td>0.0</td>\n",
              "      <td>0.0</td>\n",
              "      <td>0.0</td>\n",
              "      <td>0.0</td>\n",
              "      <td>0.0</td>\n",
              "      <td>0.0</td>\n",
              "      <td>0.0</td>\n",
              "    </tr>\n",
              "    <tr>\n",
              "      <th>5553</th>\n",
              "      <td>/content/drive/MyDrive/MachineLearning/images/...</td>\n",
              "      <td>0.0</td>\n",
              "      <td>0.0</td>\n",
              "      <td>0.0</td>\n",
              "      <td>0.0</td>\n",
              "      <td>0.0</td>\n",
              "      <td>0.0</td>\n",
              "      <td>0.0</td>\n",
              "      <td>0.0</td>\n",
              "      <td>0.0</td>\n",
              "      <td>...</td>\n",
              "      <td>0.0</td>\n",
              "      <td>0.0</td>\n",
              "      <td>0.0</td>\n",
              "      <td>0.0</td>\n",
              "      <td>0.0</td>\n",
              "      <td>0.0</td>\n",
              "      <td>0.0</td>\n",
              "      <td>0.0</td>\n",
              "      <td>0.0</td>\n",
              "      <td>0.0</td>\n",
              "    </tr>\n",
              "  </tbody>\n",
              "</table>\n",
              "<p>5554 rows × 121 columns</p>\n",
              "</div>\n",
              "      <button class=\"colab-df-convert\" onclick=\"convertToInteractive('df-7fc01cfa-c3d3-49af-b266-8e2f7b6dba2c')\"\n",
              "              title=\"Convert this dataframe to an interactive table.\"\n",
              "              style=\"display:none;\">\n",
              "        \n",
              "  <svg xmlns=\"http://www.w3.org/2000/svg\" height=\"24px\"viewBox=\"0 0 24 24\"\n",
              "       width=\"24px\">\n",
              "    <path d=\"M0 0h24v24H0V0z\" fill=\"none\"/>\n",
              "    <path d=\"M18.56 5.44l.94 2.06.94-2.06 2.06-.94-2.06-.94-.94-2.06-.94 2.06-2.06.94zm-11 1L8.5 8.5l.94-2.06 2.06-.94-2.06-.94L8.5 2.5l-.94 2.06-2.06.94zm10 10l.94 2.06.94-2.06 2.06-.94-2.06-.94-.94-2.06-.94 2.06-2.06.94z\"/><path d=\"M17.41 7.96l-1.37-1.37c-.4-.4-.92-.59-1.43-.59-.52 0-1.04.2-1.43.59L10.3 9.45l-7.72 7.72c-.78.78-.78 2.05 0 2.83L4 21.41c.39.39.9.59 1.41.59.51 0 1.02-.2 1.41-.59l7.78-7.78 2.81-2.81c.8-.78.8-2.07 0-2.86zM5.41 20L4 18.59l7.72-7.72 1.47 1.35L5.41 20z\"/>\n",
              "  </svg>\n",
              "      </button>\n",
              "      \n",
              "  <style>\n",
              "    .colab-df-container {\n",
              "      display:flex;\n",
              "      flex-wrap:wrap;\n",
              "      gap: 12px;\n",
              "    }\n",
              "\n",
              "    .colab-df-convert {\n",
              "      background-color: #E8F0FE;\n",
              "      border: none;\n",
              "      border-radius: 50%;\n",
              "      cursor: pointer;\n",
              "      display: none;\n",
              "      fill: #1967D2;\n",
              "      height: 32px;\n",
              "      padding: 0 0 0 0;\n",
              "      width: 32px;\n",
              "    }\n",
              "\n",
              "    .colab-df-convert:hover {\n",
              "      background-color: #E2EBFA;\n",
              "      box-shadow: 0px 1px 2px rgba(60, 64, 67, 0.3), 0px 1px 3px 1px rgba(60, 64, 67, 0.15);\n",
              "      fill: #174EA6;\n",
              "    }\n",
              "\n",
              "    [theme=dark] .colab-df-convert {\n",
              "      background-color: #3B4455;\n",
              "      fill: #D2E3FC;\n",
              "    }\n",
              "\n",
              "    [theme=dark] .colab-df-convert:hover {\n",
              "      background-color: #434B5C;\n",
              "      box-shadow: 0px 1px 3px 1px rgba(0, 0, 0, 0.15);\n",
              "      filter: drop-shadow(0px 1px 2px rgba(0, 0, 0, 0.3));\n",
              "      fill: #FFFFFF;\n",
              "    }\n",
              "  </style>\n",
              "\n",
              "      <script>\n",
              "        const buttonEl =\n",
              "          document.querySelector('#df-7fc01cfa-c3d3-49af-b266-8e2f7b6dba2c button.colab-df-convert');\n",
              "        buttonEl.style.display =\n",
              "          google.colab.kernel.accessAllowed ? 'block' : 'none';\n",
              "\n",
              "        async function convertToInteractive(key) {\n",
              "          const element = document.querySelector('#df-7fc01cfa-c3d3-49af-b266-8e2f7b6dba2c');\n",
              "          const dataTable =\n",
              "            await google.colab.kernel.invokeFunction('convertToInteractive',\n",
              "                                                     [key], {});\n",
              "          if (!dataTable) return;\n",
              "\n",
              "          const docLinkHtml = 'Like what you see? Visit the ' +\n",
              "            '<a target=\"_blank\" href=https://colab.research.google.com/notebooks/data_table.ipynb>data table notebook</a>'\n",
              "            + ' to learn more about interactive tables.';\n",
              "          element.innerHTML = '';\n",
              "          dataTable['output_type'] = 'display_data';\n",
              "          await google.colab.output.renderOutput(dataTable, element);\n",
              "          const docLink = document.createElement('div');\n",
              "          docLink.innerHTML = docLinkHtml;\n",
              "          element.appendChild(docLink);\n",
              "        }\n",
              "      </script>\n",
              "    </div>\n",
              "  </div>\n",
              "  "
            ]
          },
          "metadata": {},
          "execution_count": 5
        }
      ],
      "source": [
        "path_images = glob.glob(\"/content/drive/MyDrive/MachineLearning/images/*.jpg\")\n",
        "\n",
        "afbeeldingen_Option3_df = pd.DataFrame(path_images, columns=[\"path\"])\n",
        "afbeeldingen_Option3_df[\"bestandsnaam\"] = afbeeldingen_Option3_df[\"path\"].apply(os.path.basename)\n",
        "afbeeldingen_Option3_df[\"restaurant_id\"] = afbeeldingen_Option3_df[\"bestandsnaam\"].str.split(\"_\",expand=True)[0]\n",
        "afbeeldingen_Option3_df['restaurant_id'] = afbeeldingen_Option3_df['restaurant_id'].astype(int)\n",
        "\n",
        "afbeeldingen_Option3_df = pd.merge(afbeeldingen_Option3_df, restaurant_df, left_on=\"restaurant_id\", right_on=\"id\", how=\"inner\")\n",
        "\n",
        "afbeeldingen_Option3_df['cuisines'] = afbeeldingen_Option3_df['cuisines'].str.split(',')\n",
        "afbeeldingen_Option3_df = afbeeldingen_Option3_df.explode('cuisines').reset_index(drop=True)\n",
        "\n",
        "afbeeldingen_Option3_df.dropna(subset=['cuisines'], inplace=True)\n",
        "afbeeldingen_Option3_df.reset_index(inplace=True)\n",
        "\n",
        "enc = OneHotEncoder(handle_unknown='ignore')\n",
        "y = afbeeldingen_Option3_df['cuisines'].values\n",
        "y = enc.fit_transform(y.reshape(-1,1))\n",
        "y_df = pd.DataFrame(y.toarray())\n",
        "\n",
        "data_hot_multi = y_df\n",
        "data_hot_multi['path'] = afbeeldingen_Option3_df['path']\n",
        "data_hot_multi\n",
        "\n",
        "data_hot_multi = data_hot_multi.groupby(\"path\").sum().reset_index()\n",
        "data_hot_multi"
      ]
    },
    {
      "cell_type": "markdown",
      "metadata": {
        "id": "K7kRCtywMMPM"
      },
      "source": [
        "### Task 1.8.1 Setting up the images\n",
        "\n",
        "Same as in Task 1.1.2. We filter the images that are black."
      ]
    },
    {
      "cell_type": "code",
      "execution_count": null,
      "metadata": {
        "id": "SWvGUWLkMOiG"
      },
      "outputs": [],
      "source": [
        "images_df = []\n",
        "label_df = []\n",
        "\n",
        "for index, row in data_hot_multi.iterrows():\n",
        "#for img in path_images:\n",
        "  try:\n",
        "    #imgV2 = img\n",
        "    img = cv2.imread(str(row['path']))\n",
        "\n",
        "    gray_image = cv2.cvtColor(img, cv2.COLOR_BGR2GRAY)\n",
        "    if cv2.countNonZero(gray_image) != 0 and cv2.countNonZero(gray_image) != gray_image.size:\n",
        "\n",
        "      img = cv2.resize(img, (224, 224))\n",
        "      if img.shape[2] == 1:\n",
        "          img = np.dstack([img, img, img])\n",
        "\n",
        "      img = cv2.cvtColor(img, cv2.COLOR_BGR2RGB)\n",
        "      img = img.astype(np.float32)/255.0\n",
        "      images_df.append(img)\n",
        "      label_df.append(row.iloc[-120:])\n",
        "\n",
        "  except:\n",
        "    print(\"Error: \", index)"
      ]
    },
    {
      "cell_type": "code",
      "execution_count": null,
      "metadata": {
        "id": "6TIu-ddQRD0f"
      },
      "outputs": [],
      "source": [
        "# Remove duplicate images from the dataframe\n",
        "df = pd.DataFrame()\n",
        "df['image'] = images_df\n",
        "df['label'] = label_df\n",
        "\n",
        "# Create a function to check if an image is a duplicate\n",
        "def is_duplicate(row):\n",
        "    image = row['image']\n",
        "    # Check if the image is a duplicate\n",
        "    return any(np.all(image == x) for x in df['image'].values[:row.name])\n",
        "\n",
        "# Use the apply method to apply the function to each row of the dataframe\n",
        "df['duplicate'] = df.apply(is_duplicate, axis=1)\n",
        "\n",
        "# Remove duplicate images from the dataframe\n",
        "df = df.drop(df[df['duplicate'] == True].index)\n",
        "\n",
        "images_df = df['image'].values.tolist()\n",
        "label_df = pd.DataFrame(df['label'].to_list())"
      ]
    },
    {
      "cell_type": "markdown",
      "metadata": {
        "id": "D8zEQfH3bvyW"
      },
      "source": [
        "### Task 1.8.2 Preparation of the neural network"
      ]
    },
    {
      "cell_type": "markdown",
      "metadata": {
        "id": "9OUqClquOuT_"
      },
      "source": [
        "#### Task 1.8.2.1 Calculate the amount of outputs classes."
      ]
    },
    {
      "cell_type": "code",
      "execution_count": null,
      "metadata": {
        "colab": {
          "base_uri": "https://localhost:8080/"
        },
        "id": "o2ocW5U5Litt",
        "outputId": "4f7a07cb-74a7-4d24-ea81-19f1cd0acf63"
      },
      "outputs": [
        {
          "output_type": "execute_result",
          "data": {
            "text/plain": [
              "120"
            ]
          },
          "metadata": {},
          "execution_count": 14
        }
      ],
      "source": [
        "amountOfClasses = afbeeldingen_Option3_df['cuisines'].unique().size\n",
        "amountOfClasses"
      ]
    },
    {
      "cell_type": "markdown",
      "metadata": {
        "id": "qquOdGjBOrFN"
      },
      "source": [
        "#### Task 1.8.2.2 Splitting in test and trainingsdata"
      ]
    },
    {
      "cell_type": "code",
      "execution_count": null,
      "metadata": {
        "id": "QoAYc9FuMG3M"
      },
      "outputs": [],
      "source": [
        "X_train, X_test, y_train, y_test = train_test_split(images_df, label_df, test_size=0.1) # 90% training and 10% test"
      ]
    },
    {
      "cell_type": "markdown",
      "metadata": {
        "id": "AbSHJseZOnzs"
      },
      "source": [
        "#### Task 1.8.2.3 Setting up the model\n",
        "\n",
        "\n",
        "It's the same neural network as for multi-classification. The only difference is in the last layer, where we use sigmoid as activation function.\n",
        "\n",
        "We use the sigmoid activation function, because it's commonly used in the output layer of a neural network for multi-label classification. This is because the sigmoid function maps any input value to a value between 0 and 1, which can be interpreted as a probability."
      ]
    },
    {
      "cell_type": "code",
      "source": [
        "np.array(X_train).shape"
      ],
      "metadata": {
        "colab": {
          "base_uri": "https://localhost:8080/"
        },
        "id": "-yl2fHNtQvD1",
        "outputId": "9779b8e4-d679-4450-de56-e902558a5f7c"
      },
      "execution_count": null,
      "outputs": [
        {
          "output_type": "execute_result",
          "data": {
            "text/plain": [
              "(3032, 224, 224, 3)"
            ]
          },
          "metadata": {},
          "execution_count": 17
        }
      ]
    },
    {
      "cell_type": "code",
      "execution_count": null,
      "metadata": {
        "id": "DOWaMERwOj8y"
      },
      "outputs": [],
      "source": [
        "model = Sequential()\n",
        "\n",
        "model.add(Conv2D(32, (3,3), input_shape=(224,224,3))) #Eerste layer,\n",
        "model.add(Activation('relu'))\n",
        "model.add(MaxPooling2D(pool_size=(2,2)))\n",
        "\n",
        "model.add(Conv2D(64, (3,3)))\n",
        "model.add(Activation('relu'))\n",
        "model.add(MaxPooling2D(pool_size=(2,2)))\n",
        "model.add(Dropout(0.5))\n",
        "\n",
        "model.add(Conv2D(64, (3,3)))\n",
        "model.add(Activation('relu'))\n",
        "model.add(MaxPooling2D(pool_size=(2,2)))\n",
        "model.add(Dropout(0.5))\n",
        "\n",
        "model.add(Flatten()) # Converting 3D feature maps to 1D feature vectors\n",
        "\n",
        "model.add(Dense(64))\n",
        "model.add(Activation('relu'))\n",
        "model.add(Dense(amountOfClasses)) #Amount of outputs\n",
        "model.add(Activation('sigmoid')) #For multi-label classification"
      ]
    },
    {
      "cell_type": "markdown",
      "metadata": {
        "id": "c3ELyrONPCzc"
      },
      "source": [
        "#### Task 1.8.2.4 Compile the model"
      ]
    },
    {
      "cell_type": "code",
      "execution_count": null,
      "metadata": {
        "id": "lQhHSwynPBxl"
      },
      "outputs": [],
      "source": [
        "# compile model\n",
        "#opt = SGD(lr=0.05, momentum=1)\n",
        "model.compile(loss='binary_crossentropy', optimizer='adam', metrics=['accuracy'])"
      ]
    },
    {
      "cell_type": "markdown",
      "metadata": {
        "id": "Huaoofe_PFXf"
      },
      "source": [
        "#### Task 1.8.2.5 Fit the model"
      ]
    },
    {
      "cell_type": "code",
      "execution_count": null,
      "metadata": {
        "colab": {
          "base_uri": "https://localhost:8080/"
        },
        "id": "arEYV_2xPH4L",
        "outputId": "a35ffcef-b4fe-48ac-c7c9-c0bd60466f75"
      },
      "outputs": [
        {
          "output_type": "stream",
          "name": "stderr",
          "text": [
            "<ipython-input-20-8e2f9d4d4b7e>:5: DeprecationWarning: `np.float` is a deprecated alias for the builtin `float`. To silence this warning, use `float` by itself. Doing this will not modify any behavior and is safe. If you specifically wanted the numpy scalar type, use `np.float64` here.\n",
            "Deprecated in NumPy 1.20; for more details and guidance: https://numpy.org/devdocs/release/1.20.0-notes.html#deprecations\n",
            "  y=np.array(y_train, dtype=np.float),\n"
          ]
        },
        {
          "output_type": "stream",
          "name": "stdout",
          "text": [
            "Epoch 1/10\n",
            "95/95 [==============================] - 249s 3s/step - loss: 0.1775 - accuracy: 0.2302\n",
            "Epoch 2/10\n",
            "95/95 [==============================] - 244s 3s/step - loss: 0.0732 - accuracy: 0.3384\n",
            "Epoch 3/10\n",
            "95/95 [==============================] - 238s 3s/step - loss: 0.0723 - accuracy: 0.3407\n",
            "Epoch 4/10\n",
            "95/95 [==============================] - 242s 3s/step - loss: 0.0713 - accuracy: 0.3351\n",
            "Epoch 5/10\n",
            "95/95 [==============================] - 244s 3s/step - loss: 0.0711 - accuracy: 0.3371\n",
            "Epoch 6/10\n",
            "95/95 [==============================] - 237s 2s/step - loss: 0.0705 - accuracy: 0.3232\n",
            "Epoch 7/10\n",
            "95/95 [==============================] - 246s 3s/step - loss: 0.0697 - accuracy: 0.3054\n",
            "Epoch 8/10\n",
            "95/95 [==============================] - 251s 3s/step - loss: 0.0685 - accuracy: 0.3229\n",
            "Epoch 9/10\n",
            "95/95 [==============================] - 258s 3s/step - loss: 0.0671 - accuracy: 0.3150\n",
            "Epoch 10/10\n",
            "95/95 [==============================] - 257s 3s/step - loss: 0.0654 - accuracy: 0.3008\n"
          ]
        },
        {
          "output_type": "execute_result",
          "data": {
            "text/plain": [
              "<keras.callbacks.History at 0x7fbce16f24c0>"
            ]
          },
          "metadata": {},
          "execution_count": 20
        }
      ],
      "source": [
        "batch_size = 32 #Number of samples before updating the network\n",
        "nb_epochs = 10 #Epoch = aantal keer dat het algoritme over de training dataset gaat.\n",
        "\n",
        "model.fit(x=np.array(X_train),\n",
        "          y=np.array(y_train, dtype=np.float),\n",
        "          batch_size=batch_size,\n",
        "          epochs=nb_epochs)"
      ]
    },
    {
      "cell_type": "code",
      "execution_count": null,
      "metadata": {
        "id": "AHXgSdql6DFr",
        "colab": {
          "base_uri": "https://localhost:8080/"
        },
        "outputId": "256c64b5-8bb5-43ea-9e23-d15ccfc43719"
      },
      "outputs": [
        {
          "output_type": "stream",
          "name": "stderr",
          "text": [
            "<ipython-input-21-98045edec227>:1: DeprecationWarning: `np.float` is a deprecated alias for the builtin `float`. To silence this warning, use `float` by itself. Doing this will not modify any behavior and is safe. If you specifically wanted the numpy scalar type, use `np.float64` here.\n",
            "Deprecated in NumPy 1.20; for more details and guidance: https://numpy.org/devdocs/release/1.20.0-notes.html#deprecations\n",
            "  loss, acc = model.evaluate(np.array(X_test), np.array(y_test, dtype=np.float), batch_size=4)\n"
          ]
        },
        {
          "output_type": "stream",
          "name": "stdout",
          "text": [
            "85/85 [==============================] - 9s 101ms/step - loss: 0.0973 - accuracy: 0.3056\n",
            "Loss: 0.09730713069438934 accuracy:  0.30563798546791077\n"
          ]
        }
      ],
      "source": [
        "loss, acc = model.evaluate(np.array(X_test), np.array(y_test, dtype=np.float), batch_size=4)\n",
        "print('Loss:', loss, 'accuracy: ', acc)"
      ]
    },
    {
      "cell_type": "markdown",
      "metadata": {
        "id": "rd1dsqkk_zqQ"
      },
      "source": [
        "### Task 1.8.2.6 Evaluate multi-label classification\n",
        "\n",
        "The amount of classes was way bigger then in the multi-classification (120 cuisines vs. 50 cuisines), so the task is harder. We can't make a fair comparison between the 2 models.\n",
        "\n",
        "Overall, the results of the multi-label classification were okay. Knowing that the model was trained with a small dataset. Multi-label classification is a more difficult task to perform.\n",
        "\n",
        "The model was also trained for a more realistic task, where a meal could belong to different cuisines, instead of just one."
      ]
    },
    {
      "cell_type": "markdown",
      "metadata": {
        "id": "y5MN0RJFcHEt"
      },
      "source": [
        "## Task 1.9 Evaluate different approaches for predicting the cuisines based on the pictue"
      ]
    },
    {
      "cell_type": "markdown",
      "metadata": {
        "id": "bM-xKQJweUCj"
      },
      "source": [
        "| Description | Pros | contras |\n",
        "|----------|----------|----------|\n",
        "| Classification without data augmentation   | (+) Easy to understand, was a good start. | (-) By the way of selecting the data a lot of cuisines where missing, 50 against 120. <br /> (-) We were stuck in a local minima, but it seems more likely that data wasn't right for the task. <br /> (-) We hadn't have mutch data available, that could be a reason for the underperformance of the neural network. <br /> (-) Data is not in balance, what results in not a good trainingset.|\n",
        "| Classification with data augmentation   | (+) More available datapoints, should have result in better performance <br /> (+) Data is more in balance, more trainingsdata to train with. | (-) Data augmentation is realy heavy to proces. <br /> (-) Still not working with all the cuisines. <br />|\n",
        "| Classification with data augmentation + undersampling  | (+) Less 'Belgian' label in the data. <br /> (+) Data is more in balance. | (-) Not the best representation of the data <br /> (-) Still not working with all the cuisines. <br /> (-) really small amount of trainingsdata.|\n",
        "| Multi-lable classification | (+) All the cuisines are included. <br /> (+) More features <br /> (+) More realistic approche, that a restaurant has multiple cuisines. | (-) Heavy for the computer to process. </br>|\n"
      ]
    },
    {
      "cell_type": "markdown",
      "metadata": {
        "id": "GrRSApIw-327"
      },
      "source": [
        "The biggest influence on the performance was when we removed the duplicates. </br>\n",
        "Here, the amount of contradictions was way lower, therefore the model performed better."
      ]
    },
    {
      "cell_type": "markdown",
      "metadata": {
        "id": "Kc99pjUBhxba"
      },
      "source": [
        "### Task 1.9.1 Overall conclution"
      ]
    },
    {
      "cell_type": "markdown",
      "metadata": {
        "id": "gyaXdzMkhZyo"
      },
      "source": [
        "Overall I think that the used data wasn't the right data to use for this task.\n",
        "  - We also needed to clean up a lot of the images, removing duplicates and blank images. This resulted in better performance.\n",
        "</br> What first seemed like a local minimum, could possible be a global minimum.\n",
        "\n",
        "  - It would be a good approche to use the results of Task2, for filtering the images."
      ]
    }
  ],
  "metadata": {
    "accelerator": "TPU",
    "colab": {
      "provenance": [],
      "collapsed_sections": [
        "4H1rkd-a6ok1"
      ],
      "include_colab_link": true
    },
    "gpuClass": "standard",
    "kernelspec": {
      "display_name": "Python 3",
      "name": "python3"
    },
    "language_info": {
      "name": "python"
    }
  },
  "nbformat": 4,
  "nbformat_minor": 0
}